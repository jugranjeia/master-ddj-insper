{
  "nbformat": 4,
  "nbformat_minor": 0,
  "metadata": {
    "colab": {
      "provenance": [],
      "include_colab_link": true
    },
    "kernelspec": {
      "name": "python3",
      "display_name": "Python 3"
    },
    "language_info": {
      "name": "python"
    }
  },
  "cells": [
    {
      "cell_type": "markdown",
      "metadata": {
        "id": "view-in-github",
        "colab_type": "text"
      },
      "source": [
        "<a href=\"https://colab.research.google.com/github/jugranjeia/master-ddj-insper/blob/main/MINERA%C3%87%C3%83O_DE_DADOS_N%C3%83O_ESTRUTURADOS_TRABALHO_01.ipynb\" target=\"_parent\"><img src=\"https://colab.research.google.com/assets/colab-badge.svg\" alt=\"Open In Colab\"/></a>"
      ]
    },
    {
      "cell_type": "markdown",
      "source": [
        "#Exercício em grupo (Grupo 6):\n",
        "Érico Monte, Julianna Granjeia, Luize Sampaio, Vinicius de Melo\n",
        "\n",
        "Tema: \"Repercussão da recusa de Frota ao convite para participar da equipe de transição do governo Lula\"\n"
      ],
      "metadata": {
        "id": "Wj-44ZhrUgtb"
      }
    },
    {
      "cell_type": "markdown",
      "metadata": {
        "id": "sn0g8ksZerus"
      },
      "source": [
        "##Instalando a biblioteca"
      ]
    },
    {
      "cell_type": "code",
      "metadata": {
        "id": "6WLjxnhxesEt",
        "colab": {
          "base_uri": "https://localhost:8080/"
        },
        "outputId": "f62dc368-2905-4bfd-b789-d84fd85836e8"
      },
      "source": [
        "\n",
        "!git clone --depth=1 https://github.com/twintproject/twint.git\n",
        "!cd /content/twint && pip3 install . -r requirements.txt && pip install aiohttp==3.7.0 --force-reinstal\n"
      ],
      "execution_count": null,
      "outputs": [
        {
          "output_type": "stream",
          "name": "stdout",
          "text": [
            "Cloning into 'twint'...\n",
            "remote: Enumerating objects: 47, done.\u001b[K\n",
            "remote: Counting objects: 100% (47/47), done.\u001b[K\n",
            "remote: Compressing objects: 100% (44/44), done.\u001b[K\n",
            "remote: Total 47 (delta 3), reused 14 (delta 0), pack-reused 0\u001b[K\n",
            "Unpacking objects: 100% (47/47), done.\n",
            "Looking in indexes: https://pypi.org/simple, https://us-python.pkg.dev/colab-wheels/public/simple/\n",
            "Processing /content/twint\n",
            "\u001b[33m  DEPRECATION: A future pip version will change local packages to be built in-place without first copying to a temporary directory. We recommend you use --use-feature=in-tree-build to test your packages with this new behavior before it becomes the default.\n",
            "   pip 21.3 will remove support for this functionality. You can find discussion regarding this at https://github.com/pypa/pip/issues/7555.\u001b[0m\n",
            "Requirement already satisfied: aiohttp in /usr/local/lib/python3.7/dist-packages (from -r requirements.txt (line 1)) (3.8.3)\n",
            "Collecting aiodns\n",
            "  Downloading aiodns-3.0.0-py3-none-any.whl (5.0 kB)\n",
            "Requirement already satisfied: beautifulsoup4 in /usr/local/lib/python3.7/dist-packages (from -r requirements.txt (line 3)) (4.6.3)\n",
            "Collecting cchardet\n",
            "  Downloading cchardet-2.1.7-cp37-cp37m-manylinux2010_x86_64.whl (263 kB)\n",
            "\u001b[K     |████████████████████████████████| 263 kB 7.9 MB/s \n",
            "\u001b[?25hCollecting dataclasses\n",
            "  Downloading dataclasses-0.6-py3-none-any.whl (14 kB)\n",
            "Collecting elasticsearch\n",
            "  Downloading elasticsearch-8.5.2-py3-none-any.whl (385 kB)\n",
            "\u001b[K     |████████████████████████████████| 385 kB 12.6 MB/s \n",
            "\u001b[?25hRequirement already satisfied: pysocks in /usr/local/lib/python3.7/dist-packages (from -r requirements.txt (line 7)) (1.7.1)\n",
            "Requirement already satisfied: pandas>=0.23.0 in /usr/local/lib/python3.7/dist-packages (from -r requirements.txt (line 8)) (1.3.5)\n",
            "Collecting aiohttp_socks<=0.4.1\n",
            "  Downloading aiohttp_socks-0.4.1-py3-none-any.whl (17 kB)\n",
            "Collecting schedule\n",
            "  Downloading schedule-1.1.0-py2.py3-none-any.whl (10 kB)\n",
            "Requirement already satisfied: geopy in /usr/local/lib/python3.7/dist-packages (from -r requirements.txt (line 11)) (1.17.0)\n",
            "Collecting fake-useragent\n",
            "  Downloading fake_useragent-1.0.1-py3-none-any.whl (50 kB)\n",
            "\u001b[K     |████████████████████████████████| 50 kB 3.7 MB/s \n",
            "\u001b[?25hCollecting googletransx\n",
            "  Downloading googletransx-2.4.2.tar.gz (13 kB)\n",
            "Requirement already satisfied: pytz>=2017.3 in /usr/local/lib/python3.7/dist-packages (from pandas>=0.23.0->-r requirements.txt (line 8)) (2022.6)\n",
            "Requirement already satisfied: python-dateutil>=2.7.3 in /usr/local/lib/python3.7/dist-packages (from pandas>=0.23.0->-r requirements.txt (line 8)) (2.8.2)\n",
            "Requirement already satisfied: numpy>=1.17.3 in /usr/local/lib/python3.7/dist-packages (from pandas>=0.23.0->-r requirements.txt (line 8)) (1.21.6)\n",
            "Requirement already satisfied: attrs>=19.2.0 in /usr/local/lib/python3.7/dist-packages (from aiohttp_socks<=0.4.1->-r requirements.txt (line 9)) (22.1.0)\n",
            "Requirement already satisfied: charset-normalizer<3.0,>=2.0 in /usr/local/lib/python3.7/dist-packages (from aiohttp->-r requirements.txt (line 1)) (2.1.1)\n",
            "Requirement already satisfied: aiosignal>=1.1.2 in /usr/local/lib/python3.7/dist-packages (from aiohttp->-r requirements.txt (line 1)) (1.3.1)\n",
            "Requirement already satisfied: multidict<7.0,>=4.5 in /usr/local/lib/python3.7/dist-packages (from aiohttp->-r requirements.txt (line 1)) (6.0.2)\n",
            "Requirement already satisfied: yarl<2.0,>=1.0 in /usr/local/lib/python3.7/dist-packages (from aiohttp->-r requirements.txt (line 1)) (1.8.1)\n",
            "Requirement already satisfied: asynctest==0.13.0 in /usr/local/lib/python3.7/dist-packages (from aiohttp->-r requirements.txt (line 1)) (0.13.0)\n",
            "Requirement already satisfied: typing-extensions>=3.7.4 in /usr/local/lib/python3.7/dist-packages (from aiohttp->-r requirements.txt (line 1)) (4.1.1)\n",
            "Requirement already satisfied: frozenlist>=1.1.1 in /usr/local/lib/python3.7/dist-packages (from aiohttp->-r requirements.txt (line 1)) (1.3.3)\n",
            "Requirement already satisfied: async-timeout<5.0,>=4.0.0a3 in /usr/local/lib/python3.7/dist-packages (from aiohttp->-r requirements.txt (line 1)) (4.0.2)\n",
            "Requirement already satisfied: six>=1.5 in /usr/local/lib/python3.7/dist-packages (from python-dateutil>=2.7.3->pandas>=0.23.0->-r requirements.txt (line 8)) (1.15.0)\n",
            "Requirement already satisfied: idna>=2.0 in /usr/local/lib/python3.7/dist-packages (from yarl<2.0,>=1.0->aiohttp->-r requirements.txt (line 1)) (2.10)\n",
            "Collecting pycares>=4.0.0\n",
            "  Downloading pycares-4.2.2-cp37-cp37m-manylinux_2_17_x86_64.manylinux2014_x86_64.whl (288 kB)\n",
            "\u001b[K     |████████████████████████████████| 288 kB 6.1 MB/s \n",
            "\u001b[?25hRequirement already satisfied: cffi>=1.5.0 in /usr/local/lib/python3.7/dist-packages (from pycares>=4.0.0->aiodns->-r requirements.txt (line 2)) (1.15.1)\n",
            "Requirement already satisfied: pycparser in /usr/local/lib/python3.7/dist-packages (from cffi>=1.5.0->pycares>=4.0.0->aiodns->-r requirements.txt (line 2)) (2.21)\n",
            "Collecting elastic-transport<9,>=8\n",
            "  Downloading elastic_transport-8.4.0-py3-none-any.whl (59 kB)\n",
            "\u001b[K     |████████████████████████████████| 59 kB 2.5 MB/s \n",
            "\u001b[?25hCollecting urllib3<2,>=1.26.2\n",
            "  Downloading urllib3-1.26.13-py2.py3-none-any.whl (140 kB)\n",
            "\u001b[K     |████████████████████████████████| 140 kB 5.9 MB/s \n",
            "\u001b[?25hRequirement already satisfied: certifi in /usr/local/lib/python3.7/dist-packages (from elastic-transport<9,>=8->elasticsearch->-r requirements.txt (line 6)) (2022.9.24)\n",
            "Requirement already satisfied: geographiclib<2,>=1.49 in /usr/local/lib/python3.7/dist-packages (from geopy->-r requirements.txt (line 11)) (1.52)\n",
            "Requirement already satisfied: importlib-metadata~=4.0 in /usr/local/lib/python3.7/dist-packages (from fake-useragent->-r requirements.txt (line 12)) (4.13.0)\n",
            "Requirement already satisfied: importlib-resources>=5.0 in /usr/local/lib/python3.7/dist-packages (from fake-useragent->-r requirements.txt (line 12)) (5.10.0)\n",
            "Requirement already satisfied: zipp>=0.5 in /usr/local/lib/python3.7/dist-packages (from importlib-metadata~=4.0->fake-useragent->-r requirements.txt (line 12)) (3.10.0)\n",
            "Requirement already satisfied: requests in /usr/local/lib/python3.7/dist-packages (from googletransx->-r requirements.txt (line 13)) (2.23.0)\n",
            "Requirement already satisfied: chardet<4,>=3.0.2 in /usr/local/lib/python3.7/dist-packages (from requests->googletransx->-r requirements.txt (line 13)) (3.0.4)\n",
            "Collecting requests\n",
            "  Downloading requests-2.28.1-py3-none-any.whl (62 kB)\n",
            "\u001b[K     |████████████████████████████████| 62 kB 515 kB/s \n",
            "\u001b[?25hBuilding wheels for collected packages: twint, googletransx\n",
            "  Building wheel for twint (setup.py) ... \u001b[?25l\u001b[?25hdone\n",
            "  Created wheel for twint: filename=twint-2.1.21-py3-none-any.whl size=38870 sha256=56f797871567b9ab238216503346639388a027caa3e97d9a6ce1f5376efd449d\n",
            "  Stored in directory: /tmp/pip-ephem-wheel-cache-8z2t12w2/wheels/f7/3e/11/2803f3c6890e87a9bec35bb8e37ef1ad0777a00f43e2441fb1\n",
            "  Building wheel for googletransx (setup.py) ... \u001b[?25l\u001b[?25hdone\n",
            "  Created wheel for googletransx: filename=googletransx-2.4.2-py3-none-any.whl size=15968 sha256=20985c4bf36923196b2e9ea8a4d54fc2872eedbfdbbc1db40fddeddcb1e46a9f\n",
            "  Stored in directory: /root/.cache/pip/wheels/66/d5/b1/31104b338f7fd45aa8f7d22587765db06773b13df48a89735f\n",
            "Successfully built twint googletransx\n",
            "Installing collected packages: urllib3, requests, pycares, elastic-transport, schedule, googletransx, fake-useragent, elasticsearch, dataclasses, cchardet, aiohttp-socks, aiodns, twint\n",
            "  Attempting uninstall: urllib3\n",
            "    Found existing installation: urllib3 1.24.3\n",
            "    Uninstalling urllib3-1.24.3:\n",
            "      Successfully uninstalled urllib3-1.24.3\n",
            "  Attempting uninstall: requests\n",
            "    Found existing installation: requests 2.23.0\n",
            "    Uninstalling requests-2.23.0:\n",
            "      Successfully uninstalled requests-2.23.0\n",
            "Successfully installed aiodns-3.0.0 aiohttp-socks-0.4.1 cchardet-2.1.7 dataclasses-0.6 elastic-transport-8.4.0 elasticsearch-8.5.2 fake-useragent-1.0.1 googletransx-2.4.2 pycares-4.2.2 requests-2.28.1 schedule-1.1.0 twint-2.1.21 urllib3-1.26.13\n",
            "Looking in indexes: https://pypi.org/simple, https://us-python.pkg.dev/colab-wheels/public/simple/\n",
            "Collecting aiohttp==3.7.0\n",
            "  Downloading aiohttp-3.7.0-cp37-cp37m-manylinux2014_x86_64.whl (1.3 MB)\n",
            "\u001b[K     |████████████████████████████████| 1.3 MB 26.1 MB/s \n",
            "\u001b[?25hCollecting yarl<2.0,>=1.0\n",
            "  Downloading yarl-1.8.1-cp37-cp37m-manylinux_2_17_x86_64.manylinux2014_x86_64.whl (231 kB)\n",
            "\u001b[K     |████████████████████████████████| 231 kB 77.7 MB/s \n",
            "\u001b[?25hCollecting multidict<7.0,>=4.5\n",
            "  Downloading multidict-6.0.2-cp37-cp37m-manylinux_2_17_x86_64.manylinux2014_x86_64.whl (94 kB)\n",
            "\u001b[K     |████████████████████████████████| 94 kB 3.3 MB/s \n",
            "\u001b[?25hCollecting attrs>=17.3.0\n",
            "  Downloading attrs-22.1.0-py2.py3-none-any.whl (58 kB)\n",
            "\u001b[K     |████████████████████████████████| 58 kB 2.0 MB/s \n",
            "\u001b[?25hCollecting async-timeout<4.0,>=3.0\n",
            "  Downloading async_timeout-3.0.1-py3-none-any.whl (8.2 kB)\n",
            "Collecting chardet<4.0,>=2.0\n",
            "  Downloading chardet-3.0.4-py2.py3-none-any.whl (133 kB)\n",
            "\u001b[K     |████████████████████████████████| 133 kB 66.4 MB/s \n",
            "\u001b[?25hCollecting idna>=2.0\n",
            "  Downloading idna-3.4-py3-none-any.whl (61 kB)\n",
            "\u001b[K     |████████████████████████████████| 61 kB 85 kB/s \n",
            "\u001b[?25hCollecting typing-extensions>=3.7.4\n",
            "  Downloading typing_extensions-4.4.0-py3-none-any.whl (26 kB)\n",
            "Installing collected packages: typing-extensions, multidict, idna, yarl, chardet, attrs, async-timeout, aiohttp\n",
            "  Attempting uninstall: typing-extensions\n",
            "    Found existing installation: typing-extensions 4.1.1\n",
            "    Uninstalling typing-extensions-4.1.1:\n",
            "      Successfully uninstalled typing-extensions-4.1.1\n",
            "  Attempting uninstall: multidict\n",
            "    Found existing installation: multidict 6.0.2\n",
            "    Uninstalling multidict-6.0.2:\n",
            "      Successfully uninstalled multidict-6.0.2\n",
            "  Attempting uninstall: idna\n",
            "    Found existing installation: idna 2.10\n",
            "    Uninstalling idna-2.10:\n",
            "      Successfully uninstalled idna-2.10\n",
            "  Attempting uninstall: yarl\n",
            "    Found existing installation: yarl 1.8.1\n",
            "    Uninstalling yarl-1.8.1:\n",
            "      Successfully uninstalled yarl-1.8.1\n",
            "  Attempting uninstall: chardet\n",
            "    Found existing installation: chardet 3.0.4\n",
            "    Uninstalling chardet-3.0.4:\n",
            "      Successfully uninstalled chardet-3.0.4\n",
            "  Attempting uninstall: attrs\n",
            "    Found existing installation: attrs 22.1.0\n",
            "    Uninstalling attrs-22.1.0:\n",
            "      Successfully uninstalled attrs-22.1.0\n",
            "  Attempting uninstall: async-timeout\n",
            "    Found existing installation: async-timeout 4.0.2\n",
            "    Uninstalling async-timeout-4.0.2:\n",
            "      Successfully uninstalled async-timeout-4.0.2\n",
            "  Attempting uninstall: aiohttp\n",
            "    Found existing installation: aiohttp 3.8.3\n",
            "    Uninstalling aiohttp-3.8.3:\n",
            "      Successfully uninstalled aiohttp-3.8.3\n",
            "\u001b[31mERROR: pip's dependency resolver does not currently take into account all the packages that are installed. This behaviour is the source of the following dependency conflicts.\n",
            "thinc 8.1.5 requires typing-extensions<4.2.0,>=3.7.4.1; python_version < \"3.8\", but you have typing-extensions 4.4.0 which is incompatible.\n",
            "spacy 3.4.3 requires typing-extensions<4.2.0,>=3.7.4; python_version < \"3.8\", but you have typing-extensions 4.4.0 which is incompatible.\n",
            "confection 0.0.3 requires typing-extensions<4.2.0,>=3.7.4.1; python_version < \"3.8\", but you have typing-extensions 4.4.0 which is incompatible.\u001b[0m\n",
            "Successfully installed aiohttp-3.7.0 async-timeout-3.0.1 attrs-22.1.0 chardet-3.0.4 idna-3.4 multidict-6.0.2 typing-extensions-4.4.0 yarl-1.8.1\n"
          ]
        }
      ]
    },
    {
      "cell_type": "code",
      "source": [
        "!pip install nest-asyncio"
      ],
      "metadata": {
        "colab": {
          "base_uri": "https://localhost:8080/"
        },
        "id": "F1NueEpGPA7M",
        "outputId": "390a663d-29aa-4b0e-a850-930f07a1283e"
      },
      "execution_count": null,
      "outputs": [
        {
          "output_type": "stream",
          "name": "stdout",
          "text": [
            "Looking in indexes: https://pypi.org/simple, https://us-python.pkg.dev/colab-wheels/public/simple/\n",
            "Collecting nest-asyncio\n",
            "  Downloading nest_asyncio-1.5.6-py3-none-any.whl (5.2 kB)\n",
            "Installing collected packages: nest-asyncio\n",
            "Successfully installed nest-asyncio-1.5.6\n"
          ]
        }
      ]
    },
    {
      "cell_type": "markdown",
      "source": [
        "##Ligação com o Google Drive"
      ],
      "metadata": {
        "id": "YnvjO9c_U7TY"
      }
    },
    {
      "cell_type": "code",
      "metadata": {
        "colab": {
          "base_uri": "https://localhost:8080/"
        },
        "id": "L0PXZB_EgKv3",
        "outputId": "7d7512de-3bb7-4a58-b7a0-4de1d16e523f"
      },
      "source": [
        "from google.colab import drive\n",
        "drive.mount('/content/drive')"
      ],
      "execution_count": null,
      "outputs": [
        {
          "output_type": "stream",
          "name": "stdout",
          "text": [
            "Mounted at /content/drive\n"
          ]
        }
      ]
    },
    {
      "cell_type": "markdown",
      "source": [
        "##Captura dos tuítes"
      ],
      "metadata": {
        "id": "y--ftq4jVAA7"
      }
    },
    {
      "cell_type": "code",
      "metadata": {
        "colab": {
          "base_uri": "https://localhost:8080/"
        },
        "id": "EE-DvoAkeo-y",
        "outputId": "9928488d-701c-446f-c76d-2d1ea4bfb51e"
      },
      "source": [
        "import nest_asyncio\n",
        "import twint\n",
        "\n",
        "nest_asyncio.apply()\n",
        "import time\n",
        "\n",
        "import os\n",
        "\n",
        "timestr = time.strftime(\"%Y%m%d\")\n",
        "\n",
        "c = twint.Config()\n",
        "c.Limit = 500\n",
        "c.Store_csv = True\n",
        "c.Search = \"Frota\"\n",
        "text_file = \"/content/drive/My Drive/Frota.csv\"\n",
        "c.Output = text_file\n",
        "#c.Since = '2022-11-23'\n",
        "#c.Until = '2022-11-24'\n",
        "\n",
        "twint.run.Search(c)"
      ],
      "execution_count": null,
      "outputs": [
        {
          "output_type": "stream",
          "name": "stdout",
          "text": [
            "1595932545291534340 2022-11-25 00:09:04 +0000 <MMAH20025> @77_frota Quem vai pagar eu não sei , mais com certeza não vai precisar fazer filme porno 😬\n",
            "1595932540761944064 2022-11-25 00:09:03 +0000 <josiane24071983> @savanadobrasil @77_frota Reveja as postagens dele e entenderá. Ao invez de unir optaram pelo contrário\n",
            "1595932531018371073 2022-11-25 00:09:01 +0000 <JorgeAugusto89> @achomelhornao @telisLilika @77_frota Sonegador de imposto é herói. Graças a Deus existe essa ferramenta chamada sonegação.\n",
            "1595932528774455296 2022-11-25 00:09:00 +0000 <13_lula13> @lelispatricia @77_frota Estou cagando e andando pra radicalismo  Faça seu melhor e pronto alexandre frota\n",
            "1595932528124497920 2022-11-25 00:09:00 +0000 <MarySilveriobee> @77_frota Que pena. Que pena.\n",
            "1595932523670171648 2022-11-25 00:08:59 +0000 <sharleysousa> @77_frota Tu não tem moral\n",
            "1595932520742543361 2022-11-25 00:08:58 +0000 <Maribel_Alves> @77_frota Faça o seu melhor, críticas irão surgir, pessoas irão apoiar e outros querer te derrubar. Siga em frente.\n",
            "1595932501754642435 2022-11-25 00:08:54 +0000 <FassiniGerson> @telisLilika @77_frota Pior os que dizem que não podem pagar energia, mas a tv deles é melhor e maior que a nossa, tudo o que usa é elétrico. * não estou generalizando.\n",
            "1595932497476407296 2022-11-25 00:08:53 +0000 <deiow2005> @77_frota Liga não, vc conseguiu conquistar a gente, errar é humano, releva eles tmb.\n",
            "1595932496579145730 2022-11-25 00:08:52 +0000 <ErickaMusser> @77_frota Não decline. Vai fazer o que eles querem? Vc fez diferença nas tragedias de Petrópolis e Bahia sendo deputado estadual enquanto eles fizerem o que? Mostre o seu trabalho!!!\n",
            "1595932470330916866 2022-11-25 00:08:46 +0000 <JhuMarinho> @77_frota Faz isso não precisamos de pessoas com conhecimento e conteúdo cultural, coisas que esse bando de Zé ruela não sabe porque não conhecem sua história!\n",
            "1595932469588627456 2022-11-25 00:08:46 +0000 <Orwell1984Br> @77_frota Não acho que vc deveria declinar do convite, não. Devia seguir em frente, sua colaboração na eleição do Lula foi importante, portanto o convite foi justificado. Não desista tão fácil.\n",
            "1595932467739119618 2022-11-25 00:08:45 +0000 <glautorresadv> @77_frota Não olhe prós lados... Acompanhei seu trabalho... Parabéns!!!👏👏👏 NÃO OLHE PRÓS LADOS....😉😉😉\n",
            "1595932433605873665 2022-11-25 00:08:37 +0000 <AngelaYasmimo13> @zehdeabreu Grande vitória  nada e pura inveja 👉👉   Frota aceita o convite 🇧🇷🇧🇷\n",
            "1595932430581792769 2022-11-25 00:08:37 +0000 <hudsonmanuguel> @77_frota chora não….\n",
            "1595932424919142400 2022-11-25 00:08:35 +0000 <SilvaVladilson> @77_frota Tenho curtido suas postagens (nunca imaginei que fosse) , pensei em responder essa publicação,  achei melhor não mas querido, política pública para uma cultura destruída pelo atual governo.... ah, deixa pra lá.\n",
            "1595932422482305025 2022-11-25 00:08:35 +0000 <josearilson2> @roxmo A meu ver agora os artistas do lula estão bem representados pelo Frota, sem talento, sem moral e sem vergonha\n",
            "1595932392098656256 2022-11-25 00:08:27 +0000 <Walfeminista> @77_frota Continua dando combate. Isto é o que importa\n",
            "1595932372503244801 2022-11-25 00:08:23 +0000 <MarcosM86221330> @77_frota Pensa bem! Nem sua família quer que você faça merda!!! Larga essa posição para alguém técnico!!\n",
            "1595932369588191233 2022-11-25 00:08:22 +0000 <SilBrasill> @77_frota Que pena @77_frota. Você merece reconhecimento por todo caminho trilhado até aqui, evoluiu demais.\n",
            "1595932364512714752 2022-11-25 00:08:21 +0000 <Arkano87> @77_frota Po, cara, daí tu amarelou demais. Deixou montarem um apartamento na tua cabeça, cara. Vendo vc desistir de uma missão tão nobre quanto essa me pergunto se tu tem a fibra necessária pra encarar a vida política. Voce é bem mais que isso, cara.\n",
            "1595932364114370561 2022-11-25 00:08:21 +0000 <ncardosodesa> @77_frota Esquenta não...... você merece ter sido chamado .. Parabéns.. tenho certeza que você vai honrar o seu trabalho.\n",
            "1595932359706443776 2022-11-25 00:08:20 +0000 <pensecompolly> @77_frota É complicado. A esquerda alimenta o ódio da direita, e vice versa. Que coisa mais insuportável. Parecem um bando de criança mimada.\n",
            "1595932358548623365 2022-11-25 00:08:19 +0000 <NeideCorrea8> @77_frota O veio da Havan é um deles!\n",
            "1595932356543938561 2022-11-25 00:08:19 +0000 <Marcelopasq> @77_frota Faz o  L kkkkkkkkkk\n",
            "1595932356229185538 2022-11-25 00:08:19 +0000 <leaosagaz> @77_frota Vc tem q aceitar e mandar quem é contra tomar no koo. Tenho asco de esquerda mimizenta e q n você uma palha pra mudar nada, vivem de ser contra tudo e contra todos.\n",
            "1595932346104315905 2022-11-25 00:08:16 +0000 <adilson25555512> @77_frota Força!\n",
            "1595932321848377347 2022-11-25 00:08:11 +0000 <MarineLarissa> @Pietroam1 @77_frota @77Frota Aceite, não ligue para o que dizem.\n",
            "1595932291179634689 2022-11-25 00:08:03 +0000 <josiane24071983> @alcs2010 @77_frota Releia e repense , ou veja as publicações dele e vai entender\n",
            "1595932285542760448 2022-11-25 00:08:02 +0000 <lecticia77> @JaneFort3 @77_frota Errados é sua vida. Miserável. Se reorganize.\n",
            "1595932274473721856 2022-11-25 00:07:59 +0000 <GilAssad> @77_frota Não leve em consideração, o importante é o seu reconhecimento. Siga forte!!!\n",
            "1595932272414162945 2022-11-25 00:07:59 +0000 <Antonia_Lula> @77_frota Não faça isso. Você pode contribuir? Então aceite e mostre seu valor!\n",
            "1595932264470384642 2022-11-25 00:07:57 +0000 <moniiniiii> @77_frota Naooooo. Fique frota\n",
            "1595932256857620482 2022-11-25 00:07:55 +0000 <pisselise> @77_frota Faz isso não. Vc foi importante para eleger o Lula e tem um trabalho na transição. Conhece o Congresso. Tem contribuições p dar. Não ligue pra essa minoria.\n",
            "1595932251308556288 2022-11-25 00:07:54 +0000 <JanjoSilva> @77_frota 😂😂😂😂😂😂😂\n",
            "1595932238440546304 2022-11-25 00:07:51 +0000 <SistemNikkey> @roxmo Como se ele fosse diferente do Frota.\n",
            "1595932232027455488 2022-11-25 00:07:49 +0000 <Elisangelaopre> @77_frota mais de 700 mil mortes por tuberculose em 2020 e não vi ninguém falar nada,fora as mortes por pneumonia.\n",
            "1595932228386623489 2022-11-25 00:07:48 +0000 <brunotgalovefan> @CaelFonseca @MilaMomokinho @77_frota Jantou no café da tarde heim\n",
            "1595932203070160896 2022-11-25 00:07:42 +0000 <WagnerRodrigoB1> @77_frota E vai dá ouvidos aos robôs?! 🤦🏻‍♂️\n",
            "1595932182740082689 2022-11-25 00:07:38 +0000 <ilduaras> @77_frota o senhor deveria ter aceitado o convite e provar q a esquerda sapatenis do Leblon (adorei isso) está errada.\n",
            "1595932182526173184 2022-11-25 00:07:37 +0000 <zorrodadepre> @roxmo Alexandre frota é só mais um podre no meio da caixa de verdura estragada.\n",
            "1595932161215180800 2022-11-25 00:07:32 +0000 <boldrinii> @PetistaSuper @77_frota Que fixação é essa pelo rapaz e por pornografia?\n",
            "1595932155221364741 2022-11-25 00:07:31 +0000 <delmicetavares> @77_frota Meia dúzia de gato pingado, trabalhados no recalque.\n",
            "1595932132454850560 2022-11-25 00:07:26 +0000 <vagnerfsm> 🗞Alexandre Frota renuncia à indicação para ocupar cargo na área da cultura.\n",
            "1595932126356340737 2022-11-25 00:07:24 +0000 <FassiniGerson> @telisLilika @77_frota Pelo que entendi, não generalizou todos como caloteiros, apenas disse que favorece caloteiros. Favorece também aqueles que dizem que não podem pagar, aí obtêm isenção, e lava roupa e limpa casa com água quente do chuveiro.\n",
            "1595932122065281026 2022-11-25 00:07:23 +0000 <JhuMarinho> @77_frota Gente chataaa, onde tá escrito que vc cometeu um crime? Vc fez um trabalho, tem mais de 20 anos de carreira artística é super versátil e por mais que essa bando de mané diga ao contrário vc entende do ofício de atuação e sabe o papel da cultura na sociedade\n",
            "1595932116159959040 2022-11-25 00:07:22 +0000 <JeffCarva> @77_frota Não cuidou bem da família, Não vai cuidar da cultura, Simples 🤡  https://t.co/gJYf9VwPg9\n",
            "1595932113043615744 2022-11-25 00:07:21 +0000 <EdnaMartadeJes4> @77_frota Não desista guerreiro. Deus só dá batalhas a grandes guerreiros. Força e continue ajudando e participe sim .\n",
            "1595932108047908871 2022-11-25 00:07:20 +0000 <Boneco_v> @77_frota As pessoas podem evoluir, vc ja foi um artista e aprendeu ser um grande politico. Creio que teria muito a contrubuir com a cultura do Brasil\n",
            "1595932099550531585 2022-11-25 00:07:18 +0000 <WillErnande> Inclusive a Lei Aldir Blanc. Vou passar pano pro Frota sim, fodase   https://t.co/UldsrFNtoq\n",
            "1595932058572189696 2022-11-25 00:07:08 +0000 <FilipeF69065197> @77_frota Tu só quer cargo\n",
            "1595932048404848640 2022-11-25 00:07:05 +0000 <jaelsonst> @77_frota Preconceito?   Conceito que vc é um 💩💩 se até familiares acham , imagina eu\n",
            "1595932032378732546 2022-11-25 00:07:02 +0000 <brunotgalovefan> @MilaMomokinho @andrebatagini @77_frota  https://t.co/tjM7GS1QF0\n",
            "1595932028335423488 2022-11-25 00:07:01 +0000 <justinprogressi> @77_frota Frota, vc mudou, enfrentou os bolsonaros qdo todo mundo se calou e merece nosso respeito! Gostei da sua indicação e desejo que faça o melhor pro Brasil! De qualquer forma, vão criticar, 💪 força!\n",
            "1595932024615112705 2022-11-25 00:07:00 +0000 <VascSantos> @77_frota Ganhastes a admiração e o respeito de muitos. Parabéns pela postura madura e equilibrada.\n",
            "1595932020047515648 2022-11-25 00:06:59 +0000 <JerusaMPS190194> @77_frota Declina não Frota. Você foi convidado e pronto.\n",
            "1595932014288453633 2022-11-25 00:06:57 +0000 <mari76155319> @77_frota Não faz isso!! Aceita e mostra quem você é..uma pessoa Sensacional!!\n",
            "1595932012350787585 2022-11-25 00:06:57 +0000 <elianefeltrin> @77_frota Faz isso não, vimos o quanto vc se engajou na campanha e o quanto vc mudou, merece demais estar onde está 😘😘\n",
            "1595932003152846848 2022-11-25 00:06:55 +0000 <Jhcorinthians1> @77_frota Vc e um traíra! Não tira o Bolsonaro da cabeça Fica lá com os ladrões\n",
            "1595931990292930560 2022-11-25 00:06:52 +0000 <metempsicotico> @77_frota Frota, você não pode deixar o nacional-caetanismo tomar controle do discurso. É importante que o movimento espinoza-batailliano etnográfico que você vem propagando se fortaleça para que tenhamos vantagens espirituais na futura guerra contra a Albânia. Por favor reconsidere.\n",
            "1595931979295375361 2022-11-25 00:06:49 +0000 <Zeh_moretti> @roxmo Ué, Frota é pra fude com o negócio, tá certinho. Fora isso, quem liga pra opinião de artista no geral? Não é como se fossem uma casta superior\n",
            "1595931977554702338 2022-11-25 00:06:49 +0000 <esperandosos> @77_frota Aceite o convite e mande a esquerda sapatênis se lascar! A opinião de meia dúzia não é a da maioria!\n",
            "1595931956159647744 2022-11-25 00:06:43 +0000 <allanmagnovip> @77_frota Não desista!\n",
            "1595931951172841474 2022-11-25 00:06:42 +0000 <biancavidalvida> @77_frota Tô om vc\n",
            "1595931949113262082 2022-11-25 00:06:42 +0000 <LunnyLandy> @77_frota Aposto que foi o Zé de Abreu lhama cuspidora quem liderou o grupo de sapatênis do Leblon 🤢\n",
            "1595931925339856896 2022-11-25 00:06:36 +0000 <telisLilika> @77_frota com a pipoca na mão, só observando🤣\n",
            "1595931899557515264 2022-11-25 00:06:30 +0000 <bruno_si5> @77_frota E isso ai preconceito,  não era seu fã como artista mais esta fazendo um ótimo trabalho no legislativo\n",
            "1595931894390161408 2022-11-25 00:06:29 +0000 <JoaoGuaidao> @77_frota Ataques covardes  Se acompanhassem o seu trabalho durante esses quase 4 anos teriam também a nossa q vc sempre votou pelos interesses da Nação e com o campo progressista, apesar do partido em q vc estava, principalmente na agenda econômica. Eletrobrás, Correios, Pl do Veneno, etc\n",
            "1595931883371524096 2022-11-25 00:06:26 +0000 <GabGScar> @77_frota Apresentou muito e não aprovou nada. Mandato pífio. Deputado maçaneta!\n",
            "1595931880968388608 2022-11-25 00:06:26 +0000 <josemarmoises> @Jocenilda1 @arte_prima @geraldoalckmin @LulaOficial @ptbrasil @77_frota , pode ter todos os defeito, no passado, contudo, ajudou, muito mais que o traira do Molon a eleger @LulaOficial , agora. Quando a Lava-jato, nos roubou a convivência com Lula e todo o discurso fascista, de que lado esteve Molon, após anos sendo mantido pelo @ptbrasil ?  https://t.co/589FRPcJKE\n",
            "1595931872093429760 2022-11-25 00:06:23 +0000 <josiane24071983> @savanadobrasil @77_frota Sério?\n",
            "1595931861079195648 2022-11-25 00:06:21 +0000 <dilsonmartins> @77_frota Quem elegeu lula foi o nordeste , não foi Tiburi, Zé,  e muito menos Gregório, nós nordestino sabemos que vc hoje é lula até a alma e acreditamos nessa mudança.\n",
            "1595931859485339651 2022-11-25 00:06:20 +0000 <Brasilnaveiasim> @77_frota OBrsil ganhou bb ,!! faz o L  https://t.co/danAXr5Cri\n",
            "1595931851461648387 2022-11-25 00:06:19 +0000 <alminha_lindner> Que coisa chata.  Nós eleitores de Lula estamos do seu lado @77_frota\n",
            "1595931847011323904 2022-11-25 00:06:17 +0000 <AntiLoola> @77_frota Vc é um sacripanta\n",
            "1595931837263933442 2022-11-25 00:06:15 +0000 <Felipeacrpt> @77_frota Acho que deveria participar!! Não receberia esse convite se não tivesse contribuído e muito pela eleição do Lula. Acho até que seria mais bem aproveitado nas comunicações!! Soube passar a mensagem.\n",
            "1595931830619934720 2022-11-25 00:06:14 +0000 <JOELCALDAS> @77_frota Alguns militantes da esquerda brasileira têm que aprender que radicalismo sempre foi e será um entrave na política. Por isso deixei de ser militante político.\n",
            "1595931805835988994 2022-11-25 00:06:08 +0000 <jairo_sa1> @marcofeliciano A namorada de Frota tá de brincadeira, desde quando o verde e amarelo pertence aos bolsonaristas, pertence ao povo, pare de ser babaca.\n",
            "1595931804451491840 2022-11-25 00:06:07 +0000 <EneMendes> @77_frota Sinto muito por isso 😔😔😔\n",
            "1595931800886468608 2022-11-25 00:06:06 +0000 <criscamelo_l> @77_frota Aceita o convite siga em frente!\n",
            "1595931789901660162 2022-11-25 00:06:04 +0000 <FlaRobSal> @77_frota @rafaelwcaf Além de preconceito, vi também muita arrogância.\n",
            "1595931776081604609 2022-11-25 00:06:01 +0000 <EduardoFichtner> @77_frota Pense bem, Frota. É pensamento de uma minoria que faz barulho, mas você é muito importante para o nosso país. És o exemplo de que a mudança pode acontecer. Espero que reconsideres. Valeu pelo esforço e pela ajuda na eleição. Bem-vindo à esquerda, que é solidária.\n",
            "1595931766384381952 2022-11-25 00:05:58 +0000 <AntiReligion_AR> @elianessgarcia @77_frota ESSA GALERA DO L QUER ROUBAR DE QUEM JUSTAMENTE HONRA COM AS CONTAS. EM SP NA CDHU TEM MUITA INADIMPLÊNCIA E ELES NÃO FAZEM REAPROPRIAÇÃO PARA ENTREGAR PARA QUEM REALMENTE É HONESTO E PAGAR AS PRESTAÇÕES QUE É BARATINHA, IMPOSSIVEL UMA PESSOAS NÃO CONSEGUIR PAGAR AS PRESTAÇÕES\n",
            "1595931765541163008 2022-11-25 00:05:58 +0000 <lecticia77> @lleleka @77_frota Idiota\n",
            "1595931758142361600 2022-11-25 00:05:56 +0000 <jucapetista> @77_frota TMJ\n",
            "1595931756724736001 2022-11-25 00:05:56 +0000 <AngelaYasmimo13> @77_frota Faz isto não  aceita o convite.  Frota 👍🇧🇷 e inveja  pura aceita o convite 🙏🏻🙏🏻🙏🏻🙏🏻🙏🏻🇧🇷\n",
            "1595931751460720641 2022-11-25 00:05:55 +0000 <Sandra16518269> @77_frota Deixa esse povo falar , não de atenção,  siga em frente\n",
            "1595931750823333888 2022-11-25 00:05:55 +0000 <ataldaregina20> @77_frota Ah, não deveria, @frota.\n",
            "1595931744183934976 2022-11-25 00:05:53 +0000 <vladimir625> @77_frota 👊\n",
            "1595931743504273408 2022-11-25 00:05:53 +0000 <TalkeiCruz> @77_frota É falta de musica canta Jair Rodrigues pra eles 👇  Deixa que digam  Que pensem Que falem Deixa isso pra lá Vem pra cá O que que tem?\n",
            "1595931743143755776 2022-11-25 00:05:53 +0000 <DavidFermi40> @77_frota Sou progressista e não devemos agir como a Extrema Direita. Preconceito, ódio e desrespeito (a Leis e as Pessoas). Quem teve Alvim na Cultura (Wagner de fundo e discurso a la Goebbels ministro nazista de Hitler) não tem que apontar o dedo. E nós progressistas nos unir e respeitar\n",
            "1595931718438907904 2022-11-25 00:05:47 +0000 <cfc_vivi> @77_frota Tem q aceitar e mostrar que eles estavam errados\n",
            "1595931697631166464 2022-11-25 00:05:42 +0000 <HenriST13> Não acho que Frota deveria ceder a meros ataques, Tábata nunca cedeu e está aí firme forte. Não vejo sentido em desistir fácil assim\n",
            "1595931684230529024 2022-11-25 00:05:39 +0000 <Isy_Vondy> 😡 Quem tá falando do Frota? Não decline por essas criticas não aff\n",
            "1595931652831997952 2022-11-25 00:05:31 +0000 <PaulaNFort> @77_frota Apenas ignore! Quem sabe td o que vc tem feito te apoia! Aliás parabéns 👏👏👏👏👏👏👏👏👏👏\n",
            "1595931646796222465 2022-11-25 00:05:30 +0000 <Venceuamortepor> @77_frota Faça isso não, vc está aonde está porque é forte,porque venceu o preconceito de gente pequena e mesquinha. Vc é maior do que isso.\n",
            "1595931635022987265 2022-11-25 00:05:27 +0000 <PaulinoCosta> @77_frota Dep. Frota, confesso q o seu mandato foi uma grata surpresa. O senhor surpreendeu positivamente. Parabéns pelo mandato e despreze o q não te acrescenta.\n",
            "1595931616521916416 2022-11-25 00:05:23 +0000 <andresdescruz> @77_frota Tenho visto também a defesa que estamos fazendo contra esses ataques, em homenagem ao seu exemplar reposicionamento político.  Tem gente que parece não perceber a difícil quadra que o Brasil atravessa.\n",
            "1595931612834803712 2022-11-25 00:05:22 +0000 <ManueldeSLopes> @bellabuenox Imaginem se fosse o partido do Frota? 77.\n",
            "1595931605838733314 2022-11-25 00:05:20 +0000 <tumeleroluis1> @77_frota Faz o “L” que tudo passa…..\n",
            "1595931604853043200 2022-11-25 00:05:20 +0000 <eduardo73263310> @77_frota Toma distraído, faz o L.\n",
            "1595931600227020800 2022-11-25 00:05:19 +0000 <telisLilika> @77_frota dizem que o \"amor\" venceu fazueLi\n",
            "1595931599451082754 2022-11-25 00:05:18 +0000 <DriMJ2918> @77_frota Vc já passou por tantos momentos difíceis e piores na sua vida! Veja o Lula! Vc viu o q ele passou e enfrentou de cabeça erguida e com força! Nunca desistiu! Vc foi escolhido por ser RESISTÊNCIA E RESILIENTE!! Não faça isso @77_frota ! VC É MT MAIS DO QUE ISSO! RESISTA!!👊🏾👊🏾\n",
            "1595931587392245761 2022-11-25 00:05:16 +0000 <lecticia77> @77_frota Seu. Vagabundo fdp toma vergonha na sua cara desgraça\n",
            "1595931585916067841 2022-11-25 00:05:15 +0000 <LFazueli> @luishenriquemac @77_frota Fala ai, me chamou?\n",
            "1595931585332871168 2022-11-25 00:05:15 +0000 <dilmayy> @77_frota E aí @marciatiburi gostou da m* que vc ajudou a criar? Se eu fosse te avaliar numa banca de TCC, sua nota em habilidade social e política seria abaixo da linha de corte. 😡\n",
            "1595931582426406912 2022-11-25 00:05:14 +0000 <MarcioRibeiroJF> @77_frota Não faz isso! RESISTÊNCIA, FROTA!!! ✊\n",
            "1595931580513525760 2022-11-25 00:05:14 +0000 <ricotvc> @77_frota Alexandre, está sendo Grande em fazer esse ato. Acho que logo mais estara junto é só uma questão de fileiras. Vc foi gigante nos dois turnos.\n",
            "1595931572083261441 2022-11-25 00:05:12 +0000 <NenzaM> @77_frota Deixe o povo falar, nem ligue deixei o povo falar....  Vai lá e mostra seu melhor.\n",
            "1595931564826935296 2022-11-25 00:05:10 +0000 <Jaqueli30404821> @77_frota Acho que o momento é de unirmos forças. Parabéns por integrar a equipe da transição!\n",
            "1595931560087236608 2022-11-25 00:05:09 +0000 <rikki_spo> @77_frota Da minha parte, foi somente pra não perder a piada😉...Vai la e, boa sorte pra todos nos👍\n",
            "1595931553598611456 2022-11-25 00:05:08 +0000 <LFazueli> @luiscarlosfrodo @77_frota chamaste-me?\n",
            "1595931552302747655 2022-11-25 00:05:07 +0000 <Mondegoneto> @77_frota Vc não pode da bolas pra essa meia dúzia de preconceituosos o PT te recebeu de braços abertos e vc foi muito importante na campanha do Presidente Lula, não desista, é isso que muitos querem!\n",
            "1595931536733474816 2022-11-25 00:05:03 +0000 <Lucianoteo2> @77_frota Há, no interior do Brasil,  uma forte e múltipla CULTURA POPULAR que deve ser preservada e prestigiada pelo futuro Ministério da Cultura. Não dá mais para pensar apenas numa cultura padrão Leblon (ou então não será nada). Isso lembra o nazismo.\n",
            "1595931533990252544 2022-11-25 00:05:03 +0000 <Snia64251955> @77_frota Torço que você reveja sua decisão, seu trabalho fará falta.\n",
            "1595931528848080897 2022-11-25 00:05:02 +0000 <CarlosVitor_Gyn> @77_frota Fica leve\n",
            "1595931521265053696 2022-11-25 00:05:00 +0000 <edsontvbarros> @77_frota Não decline, Frota… Sua vivência será importante!\n",
            "1595931518425518081 2022-11-25 00:04:59 +0000 <rizzi_pezente> @77_frota Kkklkkkkk\n",
            "1595931514206056449 2022-11-25 00:04:58 +0000 <Drica63676664> @77_frota #aceitafrota\n",
            "1595931493372547073 2022-11-25 00:04:53 +0000 <savanadobrasil> @isaiasmartinspb @77_frota ? É mesmo? Cadê a crítica ao janones, alkimin, tebet, Katia Abreu, Felipe Neto? Frota foi importante como todos que eram bolsonaristas contra o pt pra derrotar Bolsonaro. Mas por vcs estaríamos tranquilamente no bozo 2.0. hipocrisia. Sem lula e estaríamos fudidos mesmo pqp\n",
            "1595931487915966465 2022-11-25 00:04:52 +0000 <jose_delavia> @77_frota Querido Frota. Há que lembrar também todo o show que você fez naquele museu em SP na anterior eleição (2018). Motivo pelo qual você se elegeu e elegeu muita gente maluca. Há magoas a sanar. Mas entendo que não goste desse \"preconceito\".\n",
            "1595931476104974338 2022-11-25 00:04:49 +0000 <oshkosh2020> @77_frota Welcome to The Club. Hang Loose…and make a L.\n",
            "1595931474968346627 2022-11-25 00:04:49 +0000 <Marcellomth> @77_frota Cara vc foi convidado. Deixa a esquerda leblon pra lá\n",
            "1595931455330586624 2022-11-25 00:04:44 +0000 <crispessanha77> @77_frota Não faça isso. Vc deve seguir em frente porque muitos te apoiam e confiam no seu trabalho\n",
            "1595931449135624192 2022-11-25 00:04:43 +0000 <iara_oliva> @77_frota Não Frota, muitas pessoas precisa de vc, vc fez a diferença e continua a fazer.\n",
            "1595931422766006272 2022-11-25 00:04:36 +0000 <flamarcin1> @77_frota Nao decline! Deixa essa gente chata espernear, brother! Sabemos q vc é um cara bom de coração e tem boas ideais. Se vc foi convidado por quem irá governar, o que esse pessoal que só gosta de infernizar a vida dos outros tem q meter o bedelho?\n",
            "1595931420756959233 2022-11-25 00:04:36 +0000 <SolMariTerceiro> @f_trad O q esperar de um grande bosta como vc? Não é do meu Estado pq se fosse nunca mais se reelegeria. Te dou exemplos com o q fazemos com traíra. Frota e Joice q o digam. 🤡🤡🤡\n",
            "1595931417456017408 2022-11-25 00:04:35 +0000 <vandinharaujo> @77_frota Vc na cultura um homem porno.  Sai fora pelo amor de Deus\n",
            "1595931410107633666 2022-11-25 00:04:33 +0000 <magali_raime> @77_frota Não liga não.  Prego que se destaca recebe mais marteladas.  Vc é muito importante para a defesa da democracia.\n",
            "1595931408371187713 2022-11-25 00:04:33 +0000 <EdilsonBrasile2> @77_frota Caro deputado, essa pergunta é redundante. Porque essa bufunfa vai sair do fundo partidário, e quem paga o fundo, somos nós os contribuintes.\n",
            "1595931405674217472 2022-11-25 00:04:32 +0000 <BetteaBette> @77_frota Que isso, Frota? Aceita o convite, sim! Acompanhei tua evolução durante teu mandato e ela foi gigante, cara! Sempre fui de esquerda, PT e eleitora do Lula, e acho importante que vc faça parte desta transição! Enfrenta mais essa aí, companheiro!\n",
            "1595931405011165186 2022-11-25 00:04:32 +0000 <claudioxavierd7> @77_frota Uma boa notícia hj, um lixo a menos num governo de lixo\n",
            "1595931396215902208 2022-11-25 00:04:30 +0000 <Traversim_Misa> @manoelvct @77_frota Hahahahahahahahah não se esqueça que ele se elegeu com Bolsonaro, sincééééérão\n",
            "1595931395226050564 2022-11-25 00:04:30 +0000 <julia_rodnelly> @77_frota Frota por nós brasileiros, não desiste cara , você foi gigante nas eleições vc e de grande potencial precisamos de vc   Não faz isso com nós. Deixam que falem vc está no caminho certo contamos com vc , e força e vamos p frente .\n",
            "1595931394982567936 2022-11-25 00:04:30 +0000 <luiscarlosfrodo> @77_frota Faz o L seu estrume.\n",
            "1595931378566463488 2022-11-25 00:04:26 +0000 <fabianamafeis> @77_frota Declinar do convite?? Tá doido?? Quem não enxerga sua mudança, quem não enxerga o quanto vc trabalha, quem não enxerga os teus projetos e pq nem segue vc. Escute quem está te seguindo.\n",
            "1595931378000203776 2022-11-25 00:04:26 +0000 <rrobert94108528> @77_frota Triste reconhecer que o preconceito às vezes vem de onde menos se espera. Força! Não faltarão oportunidades para mostrar seu valor.\n",
            "1595931367577378819 2022-11-25 00:04:23 +0000 <rodrigosilvapd1> @77_frota Isso mesmo Frota.  Parabéns e paciência.  Precisaremos do teu apoio e agradecemos o apoio para derrotar os genocidas.\n",
            "1595931367363190784 2022-11-25 00:04:23 +0000 <MarcoNe04876837> Frota, sem melindres vá em frente em razão do propósito  e pronto ✅\n",
            "1595931335646146560 2022-11-25 00:04:16 +0000 <nojapaojaedia> @77_frota Aceite rapaz! Vá e mostre seu trabalho.\n",
            "1595931335297744897 2022-11-25 00:04:15 +0000 <izildodosanjos> @nathpss Alexandre frota,kkkkk\n",
            "1595931331913199617 2022-11-25 00:04:15 +0000 <Amorim_Carmen> @77_frota Não Alexandre aceita, não entra nessa desse povo que está com \"ciúmes\"inveja de você! Sua atuação para a Vitória do Lula foi importante.\n",
            "1595931330662912000 2022-11-25 00:04:14 +0000 <TattyAnna18> @77_frota Frota, nunca agradamos a todos mesmo. Muitos ali foram importantes, mas ficaram sentados atrás do computador e nada efetivamente fizeram, q não fosse falar com a bolha. Vc foi além! Te admiro! Eu autorizo kkkk Bora! Vc é fod@!\n",
            "1595931326410272768 2022-11-25 00:04:13 +0000 <GarlichMagnus> @77_frota Quem vai pagar é tu dando a bunda seu FDP\n",
            "1595931325491728385 2022-11-25 00:04:13 +0000 <artes_clau> @77_frota Aceite e faça um bom trabalho!\n",
            "1595931322765164545 2022-11-25 00:04:12 +0000 <JaneAuroraCamp1> @77_frota Faz isso não! Aceita o convite, pois quem te convidou sabe da sua importância! As pessoas que importa são as que te apoiam, não aceite críticas destrutivas. Você é bom vai lá e dá sua contribuição pra quem te convidou e uma banana para esse povo que se acham donos da razão.\n",
            "1595931307560796160 2022-11-25 00:04:09 +0000 <fatimafleury2> @77_frota Aceita, Frota. Não desiste não\n",
            "1595931296957714435 2022-11-25 00:04:06 +0000 <FassiniGerson> @achomelhornao @telisLilika @77_frota Só narrativa de alguém que nunca gerou nada e sobrevive da inveja de quem se sobressaiu.\n",
            "1595931292482224128 2022-11-25 00:04:05 +0000 <jacques_roberta> @77_frota Não desista, Frota💪🏽 vc fez tanto até aqui desde 2019 @geraldoalckmin\n",
            "1595931291291377664 2022-11-25 00:04:05 +0000 <MoacirConsCREF9> @77_frota E pela primeira vez o Bozo vai fazer uma rachadinha ao contrário com o Valdemar Choca Neto.\n",
            "1595931287503577090 2022-11-25 00:04:04 +0000 <joaodogoias> @77_frota O Zé e o Pedro estão com ciuminho besta! Siga em frente.\n",
            "1595931238241636356 2022-11-25 00:03:52 +0000 <eltondss77> @77_frota O jogador erra um penalty decisivo em um ano e faz o gol do titulo no outro. Uns poucos vao se apegar ao penalty perdido, a grande maioria ficara com o novo capitulo!!! SRN!!!\n",
            "1595931222651580417 2022-11-25 00:03:49 +0000 <jperrone01> @77_frota Como se não sabe nem escrever ? E o desespero dos esquerdinhas aumentando...... Vai faltar cadeia para os traidores  da  Pátria.\n",
            "1595931221556858880 2022-11-25 00:03:48 +0000 <Polyafrontosa> @77_frota Frota, segue o jogo. Vc merece\n",
            "1595931215303151616 2022-11-25 00:03:47 +0000 <ratapeters> @77_frota Poxa Frota, acho que você não deveria desistir. Infelizmente tem muita gente infeliz nesse mundo, você não se deve deixar abater.\n",
            "1595931212065169408 2022-11-25 00:03:46 +0000 <matheus_valadao> .@77_frota se vc foi indicado assuma.  Você não roubou nada, não tem crime no cartório. Discordo de vc, mas se o Bolsonaro tivesse seguido os nomes que vc indicou pro osmar terra....a cultura seria outra.\n",
            "1595931209867010048 2022-11-25 00:03:46 +0000 <gama_sinval> @77_frota Estamos com frota\n",
            "1595931208235376640 2022-11-25 00:03:45 +0000 <MafraMarcia2018> @77_frota Isso é inveja não liga não.\n",
            "1595931192997863424 2022-11-25 00:03:42 +0000 <FlaviaA40222019> @77_frota Não desista, tem pessoas que acreditam que você pode sim contribuir. Não de ouvidos para os abutres\n",
            "1595931186114998272 2022-11-25 00:03:40 +0000 <renatinhabitt> @77_frota Precisamos de vc, de uma forma ou de outra. Não desista da sua luta.\n",
            "1595931174752616448 2022-11-25 00:03:37 +0000 <Alexsan23895116> @77_frota Dos seus projetos apresentados quantos foram aprovados?  Se teve algum aprovado, qual benefícios trouxe a população do Brasil?  Aguardando...\n",
            "1595931172474855426 2022-11-25 00:03:37 +0000 <Traversim_Misa> @77_frota  https://t.co/2eL3V6e1mE\n",
            "1595931153365893120 2022-11-25 00:03:32 +0000 <NilsePh> @77_frota Como assim? Deixar preconceito (ou inveja)te vencer,d modo algum!!!  Queremos vc lá. Precisamos, na verdade.   Se não aceitar, temo que botem um medíocre.   Te acompanho desde o começo,qdo era pró Blsnr. Vi seu bom julgamento e evolução, e passei a admirá-lo.  Fique, p.favor!\n",
            "1595931133245820928 2022-11-25 00:03:27 +0000 <imth92> @77_frota Até entendo que vc se redimiu e tal, mas n esqueça que em 2018 era uns dos bolsonaristas mais ferrenhos e fomentou ódio a classe artista. Ninguém é obrigado a perdoar e esquecer tudo. As vezes pode levar um tempo!\n",
            "1595931107282849794 2022-11-25 00:03:21 +0000 <Traversim_Misa> @77_frota  https://t.co/FhDmmACnFb\n",
            "1595931106897022978 2022-11-25 00:03:21 +0000 <EndireitaSantos> @77_frota Eles só vão te tolerar por pouco tempo. Logo será descartado pq vc é X9. O amor venceu @77_frota\n",
            "1595931103864713216 2022-11-25 00:03:20 +0000 <jorgebfreitas> @77_frota Hahahahahahaha. Foda-se!\n",
            "1595931093567700993 2022-11-25 00:03:18 +0000 <ArrudAndrea> @77_frota E não foi reeleito 😂\n",
            "1595931087632474113 2022-11-25 00:03:16 +0000 <ANNAVAL1322> @77_frota Não faça isso! Nós, o povo, a maioria que vota, está do seu lado! Nós sabemos do seu trabalho e do quanto vc foi importante na nossa luta. Não dê a esses intelectuais chatos, o gostinho de te derrubar.\n",
            "1595931084398919681 2022-11-25 00:03:16 +0000 <AnaIsenegger> @77_frota Tu não achas  que é porque  Tu eras Bolsonarista e além do mais Você sempre  Falou mal do PT e de Lula. Tem muita gente que tem dificuldades em perdoar. Fale com eles  e mostre a diferença  em vez de xinga-los.\n",
            "1595931081261326348 2022-11-25 00:03:15 +0000 <Katia09760173> @77_frota O rapaz vc devia aceitar o convite e ignora os ataques\n",
            "1595931077142614016 2022-11-25 00:03:14 +0000 <aline_forde> @77_frota Pela primeira vez concordo com vc, um governo que so tem ex presidiário, investigados ou suspeitos de corrupção, nao deveriam reclamar de te-lo.\n",
            "1595931077075345408 2022-11-25 00:03:14 +0000 <pepedrenrick> @Yarleypai @77_frota Desde quando não é bom apoiar pais de pessoas trans???\n",
            "1595931073745424386 2022-11-25 00:03:13 +0000 <ReinaldoAPerei3> @77_frota Seu koo!!\n",
            "1595931056754118657 2022-11-25 00:03:09 +0000 <jess_sl> @77_frota Bixo , tá enganado, quem tá te atacando é a direita maluca.\n",
            "1595931055969959936 2022-11-25 00:03:09 +0000 <luishenriquemac> @77_frota FAZ O L!\n",
            "1595931054485168128 2022-11-25 00:03:09 +0000 <markinho1970> @77_frota Putaria no congresso ?!?\n",
            "1595931049506193408 2022-11-25 00:03:07 +0000 <Adelson2807> @77_frota kkkkkkkkkk tu é o melhor para reprensentar o PT , perfeito\n",
            "1595931029944270849 2022-11-25 00:03:03 +0000 <N68Ag> @lelispatricia @77_frota O pessoal do \"não julgue\" costuma julgar muito quando interessa.\n",
            "1595931010855997440 2022-11-25 00:02:58 +0000 <Marconecarmo81> @77_frota Kkkkkkk, mas vc só se alinha a quem te promete cargo né 😎.\n",
            "1595931010386083841 2022-11-25 00:02:58 +0000 <ManoelD18065680> @77_frota Declinar por que? Você deve entender que a hipocrisia existe em ambos os lados, tanto na esquerda quanto na direita. Não decline nada, vá lá e faça o que tem de ser feito.\n",
            "1595930993374167041 2022-11-25 00:02:54 +0000 <MrciaMafra1> @77_frota Uma pena.  Fiquei muito feliz quando soube que vc faria parte da equipe de transição.  Acho que precisamos de um governo plural para reconstruir nosso país,  longe do preconceito.\n",
            "1595930989053845504 2022-11-25 00:02:53 +0000 <josypeixoto2> @77_frota Muitas vezes somos julgados por algo que fazemos, mas o que precisamos é  entender que não somos um erro. Vc é  maior do que isso, provar o que tem maior do que os preconceitos.\n",
            "1595930983190102018 2022-11-25 00:02:52 +0000 <MarcoLeao7> @77_frota Força Frota, não desista !\n",
            "1595930973564456961 2022-11-25 00:02:49 +0000 <YesIAm______> @77_frota Infelizmente tem um setor cultural que só considera cultura o q eles produzem\n",
            "1595930963732795400 2022-11-25 00:02:47 +0000 <Murillohass> @MaraFontenele3 @77_frota Sdv\n",
            "1595930957760045056 2022-11-25 00:02:45 +0000 <licury> @77_frota Esquenta não! Se colocarem a Fernanda Montenegro, tem gente q vai reclamar!! Só vai la e faça o seu melhor!!\n",
            "1595930936054808581 2022-11-25 00:02:40 +0000 <ptimao888> @77_frota @newmaramendonca eu não lhe ofendo, mas não aceito vc e nem geraldo alckmin… tenho certeza que até o final do gov lula vc já terá mudado de novo de lado para tentar golpear lula… assim como alckmin tb fará… essas alianças muito largas não tem futuro algum\n",
            "1595930935941206019 2022-11-25 00:02:40 +0000 <LUCASANDRELESS1> @tesourofala @CaelFonseca @77_frota Achar que é normal 360 mil homens recebem salários para não fazer nada todo dia desde Dom Pedro 1\n",
            "1595930933156356099 2022-11-25 00:02:40 +0000 <angelforlife6> @77_frota @clecyrampi Empurra Fumo nos Fascistas  Liga nao\n",
            "1595930927250579456 2022-11-25 00:02:38 +0000 <galegadelima> @77_frota Liga não, segue o jogo.\n",
            "1595930919692427270 2022-11-25 00:02:36 +0000 <mara_lobo> @77_frota Lamentável\n",
            "1595930917092360192 2022-11-25 00:02:36 +0000 <ceborinhah> @77_frota Os de esquerda que criticam devem ser os puxa-sacos de Caetano e afins kkkk\n",
            "1595930904697999360 2022-11-25 00:02:33 +0000 <George_adrianop> @77_frota Lamentável. Isso não é correto. Não desista\n",
            "1595930895474884608 2022-11-25 00:02:31 +0000 <dayserp1> @77_frota Frota hoje está do lado certo da História!! Parabéns!\n",
            "1595930876583763972 2022-11-25 00:02:26 +0000 <Jujucactos> @77_frota Acho que você errou muito, mas se arrependeu e se redimiu e ajudou muito aqui com denúncias contra a corja bolsonarista,  não concordo  o que estão fazendo com você. Pensa bem antes de recusar e conversa com o presidente Lula .\n",
            "1595930854353735682 2022-11-25 00:02:21 +0000 <vertudo1323> @77_frota Pois eu fiquei muito feliz quando vi seu nome. Você tem projetos maravilhosos e se mostrou um grande política. Cabe a você saber o que é melhor, mas, pessoalmente, acho que seria um grande ganho para a equipe de transição. Pense com carinho e parabéns pelo trabalho lindo!\n",
            "1595930851119865858 2022-11-25 00:02:20 +0000 <Gustavopedrett3> @77_frota A partir do ano que vem VC vai voltar a sua mediocridade.\n",
            "1595930849719242752 2022-11-25 00:02:20 +0000 <Meubanhomylife> @77_frota Não  acho que deveria declinar, não  frota. Você  tem muito a acrescentar com seus projetos! Não se deixe levar pro gente preconceituosa... essa galera que está dando piti, é puro preconceito!\n",
            "1595930848649429000 2022-11-25 00:02:19 +0000 <joseribamarcard> @77_frota 👏👏👏👏👏👏👏\n",
            "1595930844216135681 2022-11-25 00:02:18 +0000 <JefaoCRF> @77_frota Faz o L\n",
            "1595930834355163136 2022-11-25 00:02:16 +0000 <Alexand54953237> @77_frota Tnm estou observando tais ataques. Acho isso uma ignorancia só. Tenho acompanhado seu trabalho no parlamento e realmente estou surpreso com sua desenvoltura. Procure se desligar de tais ataques e continue seu trabalho.\n",
            "1595930824293371906 2022-11-25 00:02:14 +0000 <LajedoSales> @77_frota Lembre-se, o povo brasileiro está com vc, isso é o que importa.\n",
            "1595930805456744448 2022-11-25 00:02:09 +0000 <Murillohass> @rubiaresende @77_frota Sdv\n",
            "1595930795197493250 2022-11-25 00:02:07 +0000 <Adriana99260192> @direitasiqueira @omarxista @joaoamoedonovo Pois é...e eu defendi o Frota.\n",
            "1595930793163264000 2022-11-25 00:02:06 +0000 <savanadobrasil> @ElainePontal @77_frota Se enxerga garota\n",
            "1595930788448567298 2022-11-25 00:02:05 +0000 <Nog2009> @77_frota Ahhh não faz isso, críticas sempre existirão, não se deixe impressionar!\n",
            "1595930784682184709 2022-11-25 00:02:04 +0000 <LUCASANDRELESS1> @tesourofala @CaelFonseca @77_frota Mula de carga achar que 360 mil homens, dobro que todas as polícias juntas, mas o problema é o pobre, é o estado inchado? E não está inchado o exército não?\n",
            "1595930746551951360 2022-11-25 00:01:55 +0000 <thyrzaw> @77_frota Vc tem se mostrado um batalhador  Não aceite esse preconceito  Ofereceram a posição na equipe pq vc merece As pessoas adoram posar de liberais desde que não seja no seu cantinho né Vc é uma grande pessoa Tudo de bom!\n",
            "1595930743821455361 2022-11-25 00:01:54 +0000 <MariaGoreteMor5> @77_frota Nem Deus agradou a todos! Fica Frota!\n",
            "1595930722262716416 2022-11-25 00:01:49 +0000 <DriMJ2918> @77_frota O QUÊ??? DECLINAR??? @77_frota NÃO FAÇA ISSO!!! Vc estará desistindo de uma missão ao qual vc escolhido a dedo por sua competência e contribuição ao país! No melhor carioquês: vai cair na pilha? Vc vai dar razão à essas pessoas. Vc sabe quem é e isso é o q importa! NÃO DESISTA!!\n",
            "1595930711852462080 2022-11-25 00:01:47 +0000 <Verasmgomes> @77_frota Uma pena esses ataques, Frota. Considero você super importante para construirmos pontes ❤️\n",
            "1595930701878112256 2022-11-25 00:01:44 +0000 <Leonard62174653> @guilborcorado @77_frota A rejeição vem daqueles que queriam ter sido indicados mas não foram.\n",
            "1595930696505528320 2022-11-25 00:01:43 +0000 <Fernandeslj22> @77_frota Faz o seu frota não liga pris invejosos não um de cheira c\n",
            "1595930695150755840 2022-11-25 00:01:43 +0000 <Pedrosvv> @77_frota Eu aprendi a te respeitar, Frota. Aceite e faça um trabalho justo. Fazendo um bom trabalho, os críticos evaporam.\n",
            "1595930694337056768 2022-11-25 00:01:43 +0000 <attirgen> @77_frota ACEITE, FROTINHA!!!\n",
            "1595930693141512193 2022-11-25 00:01:42 +0000 <alcs2010> @josiane24071983 @77_frota Li, reli e não entendi.\n",
            "1595930689077223424 2022-11-25 00:01:41 +0000 <BrunoCDile> @77_frota Você errou muito em 2018, mas foi vendo a furada na qual se meteu e se tornou importante para reverter tudo. Como foi convidado, deveria ir, até pq o ideal é que tenha pluralidade e gente com conhecimento das podridões que acontecem no atual ministério da cultura.  Siga em frente\n",
            "1595930667602575360 2022-11-25 00:01:36 +0000 <CarlaMa62003798> @77_frota Sim... falaram tanto do julgamento de minions sobre gays, lésbicas, negros e mulheres...e olha aí...eles aceitam todos, porém se for para ganhar de vc te atacam nisso. Já percebi o radicalismo de sempre.por aqui e a ausência de discussões saudáveis.\n",
            "1595930659557703680 2022-11-25 00:01:34 +0000 <Filipezuqui> @77_frota Vc era um bom nome... fez filme gay porno, novela na globo, programa de TV.... vc tem curriculum\n",
            "1595930649369550869 2022-11-25 00:01:32 +0000 <Empresariofasc1> @77_frota Sapatênis foi ótima kkkkkkkk\n",
            "1595930608982687747 2022-11-25 00:01:22 +0000 <otavia_paula> @77_frota Concordo.\n",
            "1595930594436730880 2022-11-25 00:01:19 +0000 <TatianaCMendes> @77_frota Frota, siga firme! Sou esquerda, vi seu empenho. Contamos com você!\n",
            "1595930590527647745 2022-11-25 00:01:18 +0000 <VisionLibertine> @KlaudeZur Si se frota, saldrá algún genio? (Q está bonito)\n",
            "1595930588690669574 2022-11-25 00:01:17 +0000 <DaniloNetto8> @77_frota Creio que vem de fora,e não de dentro, da transição. Apoio a sua convocação. Siga em frente...\n",
            "1595930587730448384 2022-11-25 00:01:17 +0000 <ClericeRogerio> @77_frota Chora não, a esquerda não te quer mais...mas voce ainda vai achar quem te queira de verdade  https://t.co/4I1bt651rQ\n",
            "1595930586946113536 2022-11-25 00:01:17 +0000 <luh_yos> @77_frota Achei q foi boa a indicação. Só penso q demorou kkk\n",
            "1595930578645196801 2022-11-25 00:01:15 +0000 <ChristianVilna> @77_frota Sorte a nossa! Vc é top!\n",
            "1595930570915164160 2022-11-25 00:01:13 +0000 <Empresariofasc1> @77_frota Isso aí parabéns meu querido faça seu nome lixo a gente deixa na esquina\n",
            "1595930562598166528 2022-11-25 00:01:11 +0000 <RenatoM86437956> @77_frota É foda né?\n",
            "1595930557292376064 2022-11-25 00:01:10 +0000 <roseli_gomesbr> @77_frota Vc poderia contribuir muito na transição… assim como foi muito importante em defender a campanha do Lula ….\n",
            "1595930553588797440 2022-11-25 00:01:09 +0000 <MyleCristin> O mesmo q começou, junto com frota e Joice a história de fake News... Partido do Jairo Jorge, prefeito suspenso de Canoas.\n",
            "1595930550799585282 2022-11-25 00:01:08 +0000 <apriscila77> @77_frota Não faz isso rapaz!\n",
            "1595930550069563392 2022-11-25 00:01:08 +0000 <dadacoelho> Frota rodou. Após as articulações e iniciativas realizadas, o deputado federal Alexandre Frota não estará mais no grupo de acompanhamento da transição na cultura.\n",
            "1595930538665287686 2022-11-25 00:01:06 +0000 <VortexBrito> @77_frota Minha solidariedade, Frota! Vc é um cara corajoso, que assume o que faz e o que é e que não tem vergonha de mudar de rumo quando aprende o que é certo!\n",
            "1595930537822240768 2022-11-25 00:01:05 +0000 <Lcia84123121> @77_frota Frota, não esquenta sua cabeça. Você já tem bastante em que pensar com a transição. Você merece, o lugar é seu. E vai ter outros lugares para você, bons lugares, tenho certeza.\n",
            "1595930535968260102 2022-11-25 00:01:05 +0000 <RuthMartinsPB> @77_frota Não deixe a crítica ditar o seu caminho. Aceita o convite e prove que eles estavam errados,  https://t.co/Q26Y1Y8IJw\n",
            "1595930525914566657 2022-11-25 00:01:02 +0000 <dieguesneto> @77_frota Parabéns, gênio!!!  👏🏻👏🏻👏🏻👏🏻\n",
            "1595930523628699650 2022-11-25 00:01:02 +0000 <Roberto17520372> @77_frota Desiste não, você fez parte dessa vitória\n",
            "1595930513428344832 2022-11-25 00:01:00 +0000 <Rosa97633040> @77_frota Esquenta não.  Fica lá,  você está sendo importante nesse momento.\n",
            "1595930502397333504 2022-11-25 00:00:57 +0000 <Gica_subliarte> @77_frota Faz o L ator porno\n",
            "1595930488778137600 2022-11-25 00:00:54 +0000 <bredajunior13> @77_frota Irmão estamos contigo!🚩🇧🇷1️⃣3️⃣\n",
            "1595930483137073152 2022-11-25 00:00:52 +0000 <RitaLop23715070> @77_frota Vc fica @77_frota . Quem manda é @LulaOficial .\n",
            "1595930481526444034 2022-11-25 00:00:52 +0000 <locoloco_motion> Tão tentando enfiar o país num buraco tão grande que pessoas até mesmo como o Amoêdo e o Frota tão vendo que tudo tem limite e se posicionando em oposição\n",
            "1595930475813429248 2022-11-25 00:00:51 +0000 <LUCASANDRELESS1> @tesourofala @CaelFonseca @77_frota Meu Deus e quando eu disse que concordo? É assim que funciona o estado, não tenta me ofender no pessoal sem argumentar pois assim quem parece burro é você\n",
            "1595930471581773825 2022-11-25 00:00:50 +0000 <kemel_cecilia> @77_frota Não desista, Frota! Em nome dos muitos aqui que te defendemos: fique na transição sim. Vc é valioso.\n",
            "1595930466275950594 2022-11-25 00:00:48 +0000 <mirr0redheart> Nossa mas que povo chato, queremos vc na Cultura e no governo @77_frota ❤️❤️❤️\n",
            "1595930460462399489 2022-11-25 00:00:47 +0000 <analeoncio126> @77_frota Se fosse vc não desistiria. Vc foi o parlamentar que mais apresentou propostas no congresso. Se vc foi convocado para trabalhar na transição do novo governo @LulaOficial é pq vc é capaz, tem idoneidade!!\n",
            "1595930444604006400 2022-11-25 00:00:43 +0000 <telisLilika> @Cassiaafrontosa @77_frota  https://t.co/AUAz8nevC0\n",
            "1595930431647780865 2022-11-25 00:00:40 +0000 <nivia_negreiros> @77_frota Não acho que vc deva declinar, vamos precisar de todo mundo.\n",
            "1595930425972645894 2022-11-25 00:00:39 +0000 <oielidi> @77_frota Não decline!!!!\n",
            "1595930419740151808 2022-11-25 00:00:37 +0000 <Ararodrigues4> @77_frota Acredito nas mudanças! Acho imprescindível que reconheçamos a importância uns dos outros! Se te convidaram, bora trabalhar!!!\n",
            "1595930418645188610 2022-11-25 00:00:37 +0000 <zappaannaz> @77_frota Não Vc tem que ficar\n",
            "1595930400764956675 2022-11-25 00:00:33 +0000 <willianrj93> @77_frota Vc é a vergonha de todos os lados...🤣😂\n",
            "1595930392695300100 2022-11-25 00:00:31 +0000 <SchultezLayon> @77_frota Se eles podem dividir a peguete, podem dividir a conta 🤷\n",
            "1595930382020464640 2022-11-25 00:00:28 +0000 <Lulala13neles> @77_frota Não dá ideia não.Vamos q vamos.\n",
            "1595930376819675136 2022-11-25 00:00:27 +0000 <MaximoCassia> @clubdodom @77_frota @AndreJanonesAdv @gleisi @senadorhumberto @samiabomfim @alexandre @STF_oficial @TSEjusbr Feito👊\n",
            "1595930376546967554 2022-11-25 00:00:27 +0000 <MacielValdiceia> @77_frota FRORA NÃO DESISTA POR NINGUÉM. COM PESSOAS ASSIM VC SABE LIDAR BEM. VOCÊ TIRA DE LETRA CARA.\n",
            "1595930374453964801 2022-11-25 00:00:26 +0000 <CCambara2> Frota foi expulso da suruba da transição.\n",
            "1595930364362784768 2022-11-25 00:00:24 +0000 <otavia_paula> @77_frota vc pode me esclarecer se este pedido de criação de CPI contra o STF e TSE, vulgo Alexandre de Moraes é mais um pesadelo para nós que queremos paz. O cabeça é o Marcel Van Hatten. Obrigada.\n",
            "1595930346474070017 2022-11-25 00:00:20 +0000 <edsonmarques_br> @77_frota Então, o preconceito e a soberba daqueles que se acham a única força política legítima e possível vencerão. Muitos ainda não entenderam que esse governo terá que ser plural e agregador das muitas forças contrárias ao bolsonarismo, por isso ainda têm esse comportamento excludente.\n",
            "1595930343357689857 2022-11-25 00:00:19 +0000 <BandaBranco> @77_frota Kkkk se elogiando? Kkkk só assim mesmo !\n",
            "1595930326806716416 2022-11-25 00:00:15 +0000 <TiagoBorgesdaS3> @77_frota O amor venceu!!! Faz o L 😂😂😂\n",
            "1595930326358007814 2022-11-25 00:00:15 +0000 <Paulaschmidt05> @77_frota Não faça isso. Fk them!\n",
            "1595930313775280128 2022-11-25 00:00:12 +0000 <paidoluisfelipe> @77_frota Tem meu apoio! 👏🏻\n",
            "1595930312441466880 2022-11-25 00:00:12 +0000 <deisy_portela> @77_frota Ignore o Brasil precisa seu trabalho, continue brilhando!\n",
            "1595930304124186625 2022-11-25 00:00:10 +0000 <DoNarrymann> @77_frota Os cães ladram e a caravana  passa .\n",
            "1595930286789124096 2022-11-25 00:00:05 +0000 <Suzi83674652> @77_frota Boa sorte frota!!!!vc foi e é fonte de informação contra os extremistas,terroristas de direita.Só quem não acompanhou as redes sociais que não viu  o quanto vc foi importante nessa guerra.\n",
            "1595930285556002816 2022-11-25 00:00:05 +0000 <Jane36Pisciana> @77_frota Siga forte, dessa vez vc está do lado certo da história!!! Tem muitos da esquerda defendendo você. Todos nós fazemos escolhas que nem sempre  são boas...mas Deus no mostra e nos dá a oportunidade de rever conceitos . O importante é o que vc vai fazer daqui para frente.\n",
            "1595930284301914113 2022-11-25 00:00:05 +0000 <PetistaSuper> @tamis1310 @77_frota Bem lá atrás, bem no fundo ;-)\n",
            "1595930267495305217 2022-11-25 00:00:01 +0000 <RenatoP32401791> @77_frota Cara não sei o que aconteceu 😔 mais o país necessita de paz e mesmo sendo de esquerda acredito que o mais importante agora é a democracia e um governo participativo por a causa maior do que a ideologia de cada um. O ódio não pode e nem deve vencer o amor\n",
            "1595930264852746241 2022-11-25 00:00:00 +0000 <Mich_elebs> @77_frota Segue o jogo, prove o quanto agrega, e eles que fiquem com a culpa de não ter tentado domar o coração.\n",
            "1595930263887953920 2022-11-25 00:00:00 +0000 <GianeCampos11> @77_frota Vc foi essencial na luta junto com a gente para eleger o Lula. Há pessoas que dizem ser petistas mas não mexeu uma palha para ajudar. Continua firme! Vc é guerreiro e estamos juntos na luta por um Brasil melhor! 💪🙏❤️👏🏻👏🏻👏🏻\n",
            "1595930260184657923 2022-11-24 23:59:59 +0000 <AnaSouz68449883> @77_frota Caga e anda para esse povo, falam dos Bolsominions e agem igual a eles\n",
            "1595930242086211584 2022-11-24 23:59:55 +0000 <CSA1103> @77_frota , não acho que você deva declinar do convite. Se houve o convite é por que a equipe de transição entendeu que você tem muito a acrescentar. Declinar é dar razão aos críticos. Vai lá e faz teu melhor. Isso tudo passa e temos muito trabalho pela frente. Não desista. Abc\n",
            "1595930231545954304 2022-11-24 23:59:52 +0000 <Vitorgonzaga68> @77_frota BIZARRO MUITO BIZARRO  https://t.co/8JhiLU2Zpe\n",
            "1595930208645033984 2022-11-24 23:59:47 +0000 <MaximoCassia> @77_frota  @AndreJanonesAdv  @gleisi  @ptbrasil  @wdiaspi  @edinhosilva\n",
            "1595930202055507968 2022-11-24 23:59:45 +0000 <doarci> @77_frota 😂😂😂  https://t.co/18g8eZOHEl\n",
            "1595930197488197633 2022-11-24 23:59:44 +0000 <matheusrevers0> @77_frota No olho do outro é refresco. Quando a pimenta cai nos olhos eles, é só gritaria. Como é bom ver a esquerda se estapeando por um pedaço de picanha.\n",
            "1595930193423523840 2022-11-24 23:59:43 +0000 <realb4db> @pfsouzajunior @alysonbraz5 @77_frota se liberta borboleta!\n",
            "1595930193088028672 2022-11-24 23:59:43 +0000 <Mardefeli> @AlanSight Frota merece respeito\n",
            "1595930193054830592 2022-11-24 23:59:43 +0000 <CarlaMa62003798> @77_frota Frota infelizmente é  isso . A esquerda radical não é  diferente do bolsonarista radical. Ambos não conseguem analisar nada e só atacar. Enfim, vc tem que correr atrás do seu. O Lula sabe que não se elegeu pq a maioria apoia PT, e por isso q há Alckmin, Tebet e outros.\n",
            "1595930186717237248 2022-11-24 23:59:42 +0000 <piutaxista> @77_frota Vc não passa de um traidor traiu JB mesma coisa vai ser com LULA e questão de tempo\n",
            "1595930173329010688 2022-11-24 23:59:38 +0000 <fabia68471656> @77_frota Frota puxa não  faça isso ficamos feliz de ter aceitado o @LulaOficial  e o @geraldoalckmin  tbm então  não  faça isso .\n",
            "1595930166160920578 2022-11-24 23:59:37 +0000 <LDHaise> @ReideAra @Pietroam1 @77_frota @77Frota ???\n",
            "1595930160397946880 2022-11-24 23:59:35 +0000 <AntiReligion_AR> @Lili_afns @77_frota NA VERDADE VAI SER O MINISTRE DA DESEDUCAÇÃO. OLHA SÓ QUE  COISA BOA 🤮 O EXPERT EM FILMES EDUCATIVOS QUE ROLAM EM PLATAFORMAS COMO XVIDEOS VAI \"CUIDAR\" DA EDUCAÇÃO. AINDA BEM QUE NÃO TENHO FILHOS NAS ESCOLAS\n",
            "1595930132476223490 2022-11-24 23:59:29 +0000 <Boladaodeamor1> @77_frota frota estamos contigo! por conta desse tipo de gente(tiburi) que a esquerda não é aceita por boa parte da periferia\n",
            "1595930126314835970 2022-11-24 23:59:27 +0000 <MariSalata> @77_frota Vai em frente, tamo junto\n",
            "1595930120728244225 2022-11-24 23:59:26 +0000 <nillgray_> @77_frota Os homens de bem mostrando o que realmente são. Uns fdp!\n",
            "1595930118207459328 2022-11-24 23:59:25 +0000 <Joseand25709231> @77_frota A conta vai chegar Frotinha... Acho que o sabor que você está tendo é só momentânea Jajá acaba seu fogo.\n",
            "1595930116734918658 2022-11-24 23:59:25 +0000 <daniramosl2> @77_frota Pô Frota, faz isso não, cara! Vc é guerreiro, lutou muito pra chegar onde chegou! Fez muito como deputado e fez muito, mas muito mesmo na campanha pro nosso Lula. É isso que eles querem. Que vc desista. E vc não é disso. Mostre sua força. Não esmoreça agora. Estamos contigo,cara\n",
            "1595930104823439361 2022-11-24 23:59:22 +0000 <naimar_da> @77_frota Tem muitos apoiando vc. Sucesso e muita força no trabalho.\n",
            "1595930103074127872 2022-11-24 23:59:22 +0000 <MoonseekerJ> @77_frota Uma pena declinar o convite, vc foi um dos maiores nomes nessa jornada contra o autoritarismo. Se redimiu completamente do passado. Lutou contra as fake news e contra a tentativa de golpe no dia das eleições. Espero q continue o trabalho com o povo, não abaixe a cabeça!\n",
            "1595930059491131397 2022-11-24 23:59:11 +0000 <ederpetry> @77_frota Deputado, respeito sua decisão. No entanto, acredito que o Senhor deva continuar e enfrentar de peito aberto todo este preconceito revestido de falsa moralidade de parte da esquerda e outros, vazios de conteúdo. Seu trabalho mostra que tens, e muito, conteúdo e a oferecer ao 🇧🇷.\n",
            "1595930051207479298 2022-11-24 23:59:09 +0000 <telminhaortiz> @77_frota Valores invertidos!Voce faz o bem e a recompensa vem…\n",
            "1595930045163638784 2022-11-24 23:59:08 +0000 <carolinaferraz> @77_frota Por isso que o antipetismo é tão forte a ponto de eleger Bolsonaro é quase reelegê-lo depois do gov desastroso. Se acham donos da verdade e da razão e com o direito de julgar a todos. PQP. Torço muito pela frente ampla, mas tá cada dia mais foda.\n",
            "1595930044551294977 2022-11-24 23:59:08 +0000 <carolfirmos2> @77_frota Não dá pra abraçar time campeão, Sendo coringa 🤷🏻‍♀️  Reconheço sua campanha contra a oposição, sem  a certeza que estava ao lado do povo. Boa sorte.\n",
            "1595930043469168640 2022-11-24 23:59:07 +0000 <Bennett_Lary> @77_frota nao faça isso aceite o convite pq vc merece,mande tomar no cu aqueles que falarem merda,não deixe passar uma merecida oportunidade passar por conta de gente escrota\n",
            "1595930037982986241 2022-11-24 23:59:06 +0000 <Marchezani1970> E a copa tá como @LulaOficial @JanjaLula @GuilhermeBoulos @randolfeap @77_frota @geraldoalckmin\n",
            "1595930027945754624 2022-11-24 23:59:04 +0000 <savanadobrasil> @Pietroam1 @77_frota @77Frota ? Se poupe.\n",
            "1595930016164245505 2022-11-24 23:59:01 +0000 <RgelLuiz> @RTS090 @77_frota Em 2015 tivemos milhares e milhares de pessoas que lutavam contra o PT (eu incluso), não entendia e era totalmente alienado por coisas que eu nem entendia assim como muitos.  Hoje as pessoas mudaram e nem todas pensam daquela forma, as pessoas mudam, ou deveriam acreditar nisso.\n",
            "1595930012355551232 2022-11-24 23:59:00 +0000 <MauroASampaio> @77_frota Quer uma sugestão: despreze esses ataques. Parabéns pela participação na equipe de transição!\n",
            "1595930008463220738 2022-11-24 23:58:59 +0000 <telisLilika> @robertaaemygdio @77_frota  https://t.co/AUAz8ndXMs\n",
            "1595930001135652866 2022-11-24 23:58:57 +0000 <Israelf01596789> @77_frota Mais que merecido. Boa sorte!\n",
            "1595929994466938886 2022-11-24 23:58:56 +0000 <AnaPaul95390738> @77_frota @newmaramendonca A @77_frota N faz isso tchê se tu recebeu convite é pq tem méritos\n",
            "1595929991195279361 2022-11-24 23:58:55 +0000 <MMariahelia> @77_frota Não desista ...Vc não pediu nada. Simplesmente foi convidado para participar .. Então bola pra frente e beijinho no ombro pro invejosos...\n",
            "1595929961042481152 2022-11-24 23:58:48 +0000 <VoceSandro> @77_frota Não declina, sério !\n",
            "1595929950669795328 2022-11-24 23:58:45 +0000 <itstardelli> @77_frota Você é um verme\n",
            "1595929938053697536 2022-11-24 23:58:42 +0000 <Natan75842101> @77_frota Isso que dá lamber as botas dos ganhotos achando que teria a simpatia deles!\n",
            "1595929938019946496 2022-11-24 23:58:42 +0000 <ReideAra> @dag_duts @77_frota Sem falar que abriu o mundo para os transexuais qdo fez cenas de amor com a Bianca.\n",
            "1595929933842616321 2022-11-24 23:58:41 +0000 <PetistaSuper> @77_frota Ainda falando em família, pq no teu perfil tu omite o Mayã? O cara é tão teu filho, que seguiu tua profissão, pow  https://t.co/nDwv8nFlg8\n",
            "1595929920730963969 2022-11-24 23:58:38 +0000 <JaqueVenturini1> @77_frota Não dê esse gosto a eles, você mostrou o seu valor e pode montar muito mais.\n",
            "1595929916956037120 2022-11-24 23:58:37 +0000 <telisLilika> @fsgt2711 @77_frota  https://t.co/AUAz8nvyE0\n",
            "1595929912522969088 2022-11-24 23:58:36 +0000 <luiz8tw> @77_frota @77_frota   Para de repercutir essas bobagens desses malucos.  Não dê voz ao ridículo.  Poste só comentário sobre o lixo, se necessário\n",
            "1595929898203373568 2022-11-24 23:58:33 +0000 <Judefreitas1> @77_frota Frota o convite foi feito por reconhecimento por sua capacidade, vai aceitar que os que não fizererão nada te desmereça? Desejo sucesso!!!\n",
            "1595929871720611840 2022-11-24 23:58:27 +0000 <malacraiaoficia> @77_frota Posso até não concordar com o convite, mas nunca faltarei com respeito a você. Siga em frente mano\n",
            "1595929864607236096 2022-11-24 23:58:25 +0000 <BethK32279062> @77_frota Min Alexandre é GIGANTE\n",
            "1595929862476533760 2022-11-24 23:58:24 +0000 <Alinevaldez1489> @77_frota Não decline não!!\n",
            "1595929856860385280 2022-11-24 23:58:23 +0000 <Graa87181363> @77_frota Não esquenta, faça o seu melhor\n",
            "1595929843396669440 2022-11-24 23:58:20 +0000 <Angelo91259466> @77_frota Mano, caga nisso, tu foste um bom fdp entre 2104 e 2018, claro que ninguém esquece isso, mas todos temos direito a errar e o mais importante é o caminho que percorreste para agora seres o gajo que és. Estás a fazer um grande trabalho a proteger e representar quem necessita. Força\n",
            "1595929840812785664 2022-11-24 23:58:19 +0000 <KeilaLaraRocha> @77_frota Tá preocupado pq? Tá querendo ajudar?\n",
            "1595929826908524544 2022-11-24 23:58:16 +0000 <FranzFe000z> @Dordoris Vc vai ouvir “Faz o L“ até dizer chega.  Frota na Cultura, faz o L, otária!\n",
            "1595929818696396800 2022-11-24 23:58:14 +0000 <cocochanel_1883> @77_frota Vai se importar com um zé escroto e uma tiburi?\n",
            "1595929804058292224 2022-11-24 23:58:10 +0000 <soniaregribe01> @77_frota Eita\n",
            "1595929796286222341 2022-11-24 23:58:09 +0000 <Bedamara1> @77_frota A maioria te apoia vá com tudo querido!\n",
            "1595929788614836224 2022-11-24 23:58:07 +0000 <NazarFagundes1> @77_frota Não  desista @77_frota você  também  ajudou a eleger Lula e merece participar.\n",
            "1595929762429808640 2022-11-24 23:58:00 +0000 <kranitiak> @77_frota Todos somos sujeitos a erros,mas poucos têm a capacidade de reconhecê-los e trabalhar para consertá-los. Você recebeu o convite,porque o merece.  Você pode contribuir muito nesta transição.\n",
            "1595929762039730179 2022-11-24 23:58:00 +0000 <ElisGusmaz> @77_frota Não desista! Eu sou petista e votei no Lula todas as eleições. Não concordo com os ataques daqueles que só tem discurso. Acho que você tem o direito de provar quem você realmente é.\n",
            "1595929744721199104 2022-11-24 23:57:56 +0000 <MxdernValkyrie> @Gleam_Stxr &gt; y aún entonces seguiría pidiendo más, probando los límites del contrario. ¿Hasta dónde él seguiría sus órdenes? ¿Se privaría a sí mismo de sus propios deseos sólo para servirla?-  Así que esto es lo que deseas…  -Se frota de manera aún más descarada contra él, dando pequeños &gt;\n",
            "1595929738903797762 2022-11-24 23:57:55 +0000 <laurojardim> Depois de pressionado, Alexandre Frota Renuncia à indicação para área de Cultura da transição  https://t.co/Ob3LW0i3L5\n",
            "1595929734289903616 2022-11-24 23:57:54 +0000 <FlamengoNft> @77_frota O que você entende de”cu”ltura? Não tô falando de pornografia.\n",
            "1595929726966718466 2022-11-24 23:57:52 +0000 <Joseoliveiramv> @77_frota .vc foi 1 dos primeiros a largar a mão do bolsonaro até pedir Impeachment ...fez mais q o próprio Lula q não pediu nenhum e nem foi p ruas... Mas talvez  eles queriam lá o Kid bengala...q tb não fez nada a respeito  pelo menos eu não soube mas vc tá certo família 1 lugar\n",
            "1595929718616125440 2022-11-24 23:57:50 +0000 <Adilsonjulho> @77_frota Fica tranquilo frota , não liga pra esse fogo amigo, é só inveja\n",
            "1595929717219430401 2022-11-24 23:57:50 +0000 <PedroJo06512765> @cassiarsantos01 Também não entendo Lula confia no Frota ou ele não estava na transição então todos deveriam confiar  Ele acabou de postar q até a família está sofrendo ataques isso é absurdo\n",
            "1595929703269171200 2022-11-24 23:57:46 +0000 <eternoeneas> Equipe de transição: frota tem muito a contribuir na área dê cultura......FAZ O L  https://t.co/LRk0vdIIPT\n",
            "1595929701230710784 2022-11-24 23:57:46 +0000 <CuleBrazil> @77_frota Fazendo isso quem venceu foi o preconceito.  Só podemos mudar o país se realmente enfrentarmos tudo de errado que existe nele.\n",
            "1595929690799497216 2022-11-24 23:57:43 +0000 <Murillohass> @Lili_afns @77_frota 🥰\n",
            "1595929674672377856 2022-11-24 23:57:40 +0000 <Rodrigo10090412> @77_frota Esquenta não Frota, é inveja. Vc esta na transição por merecer.\n",
            "1595929670637260801 2022-11-24 23:57:39 +0000 <ReideAra> @Pietroam1 @77_frota @77Frota Fazer filme gay é bobagem, amigo?\n",
            "1595929655894282246 2022-11-24 23:57:35 +0000 <AnaSala44230020> @77_frota É HIPOCRISIA que fala @77_frota ...\n",
            "1595929623271022595 2022-11-24 23:57:27 +0000 <viverpoesia> @77_frota Segue firme\n",
            "1595929616882941952 2022-11-24 23:57:26 +0000 <Kelli34311526> @77_frota Você fez um trabalho excelente na Câmara e não será esquecido\n",
            "1595929608565792769 2022-11-24 23:57:24 +0000 <Humbert81262386> @77_frota Declina não. Você tem muito a ajudar. Todos tem aceitação e alguma rejeição. Faz parte.\n",
            "1595929594414202881 2022-11-24 23:57:20 +0000 <GiDurante> @77_frota Não pode abdicar das coisas que lhe chegam por mérito, pq algumas pessoas criticam. Sempre haverá quem nos critique, então siga adiante e prove que vc é muito melhor do que eles acham. Jamais abra mão de algo por críticas.\n",
            "1595929593281658880 2022-11-24 23:57:20 +0000 <dog_do_pt> @77_frota Nao desista! Vc fez mais do q mta gente! Tenho acompanhado seus projetos e comentarios. Vc fez mta diferença na luta das eleições\n",
            "1595929583643230209 2022-11-24 23:57:18 +0000 <millaloliveira> @77_frota Declina não, mostra que vc pode ajudar mais do que já vimos aqui. Todos temos que aprender.\n",
            "1595929578576510978 2022-11-24 23:57:17 +0000 <Cristia00509660> @77_frota Frota não desista por favor!\n",
            "1595929575837794305 2022-11-24 23:57:16 +0000 <ChiaraGibbin> @77_frota  https://t.co/h5SseO6deL\n",
            "1595929568438779904 2022-11-24 23:57:14 +0000 <AmoraBrasil22> @AndreJanonesAdv @diegodeabreu Troca a pilha do vibrador. Frota tá te ligando.\n",
            "1595929551544406016 2022-11-24 23:57:10 +0000 <Leandro64360064> Frota sofrendo preconceito!\n",
            "1595929551493816320 2022-11-24 23:57:10 +0000 <savanadobrasil> @josiane24071983 @77_frota ?????????? Tá louca?\n",
            "1595929547706404865 2022-11-24 23:57:09 +0000 <renato_viega> @77_frota Faz o L…\n",
            "1595929543575220224 2022-11-24 23:57:08 +0000 <deutilt_daniel> @77_frota Liga o phoda-se e faz tua parte. Tem gente que não entende o significado de frente ampla/plural.\n",
            "1595929541238669312 2022-11-24 23:57:08 +0000 <CunhaMoira> @marciatiburi @richarlison97 Você sempre por fora ,não conhece nada de povo e combate as pessoas que estão aqui no Brasil  ajudando Lula ,tá feliz com a desistência do Frota?caça às bruxas elitista , preconceituosa .Vc é   é fútil ,vc e sua  entourage intelectualoide,\"descobrir\" @richarlison97 é piada.\n",
            "1595929540655992832 2022-11-24 23:57:08 +0000 <jornalcampeche> NADA impede que um ator fraco ou mediano como @77_frota possa dar boa contribuição à cultura. Tite por exemplo foi um volante mediano pra fraco é é ótimo treinador. Luxemburgo foi um lateral apenas mediano e Scolari foi um zagueiro miserável\n",
            "1595929539221327874 2022-11-24 23:57:07 +0000 <ce_eds> @77_frota Mínimo de um sem futuro.falaciais .. quê exército prendem estes corruptos políticos\n",
            "1595929530912604160 2022-11-24 23:57:05 +0000 <luciavera22> @77_frota Melhor continuar\n",
            "1595929520397484033 2022-11-24 23:57:03 +0000 <MariOli98669963> @77_frota Aceita e não ligue pra essas pessoas. Você é inteligente e competente. O Brasil precisa da sua ajuda nessa transição.\n",
            "1595929504823668736 2022-11-24 23:56:59 +0000 <guilborcorado> @77_frota Inclusive, se tem alguém que deve saber se vc  deve ou não ser convidado, esse alguém é @LulaOficial . Acho que estamos perdendo um grande amigo da democracia caso vc decline. Seja forte! Seja firme!\n",
            "1595929494602526721 2022-11-24 23:56:57 +0000 <thegoodthebaad> @77_frota Nao te critico, mas, querido frota, depois do histórico com MBL é compreensível e que seja recebido com humildade. Fora isso, torcendo por ti\n",
            "1595929492689764353 2022-11-24 23:56:56 +0000 <CarlosNori3> @77_frota Caramba, se você que tem mais de 30 anos de vida artística não tiver bagagen e Kwon How quem terá ? Ascensão atraí INVEJA  ! Paz ☮️ e faz o seu melhor  👍🏽\n",
            "1595929487082160129 2022-11-24 23:56:55 +0000 <RTS090> @RgelLuiz @77_frota Kkkkkk na luta contra o Bolsonarismo???? Ou seja na luta contra quem elegeu ele né. Em 2018 elegeu se escorando no Bolsonaro. Mais como brigou com ele perdeu o a reeleição.\n",
            "1595929465322106881 2022-11-24 23:56:50 +0000 <dirce_tia> @77_frota SETA O NEYMAR\n",
            "1595929456044306432 2022-11-24 23:56:47 +0000 <phidomiranda> @77_frota E quem vai pagar a conta?\n",
            "1595929452646584320 2022-11-24 23:56:47 +0000 <Anacris41403706> @77_frota Com certeza!!👏👏👏👏\n",
            "1595929445931655169 2022-11-24 23:56:45 +0000 <dilsonmartins> @77_frota Vc deve aceitar sim e não levar em conta  poucas pessoas que são contra sua nomeação,vc mudou e isso é o que importa, pois quem realmente lutou pela eleição de Lula nada falarão sobre seu nome na transição.  Faça feito Alckmin que nem ligou quando a esquerda invejosa o criticou.\n",
            "1595929422334660608 2022-11-24 23:56:39 +0000 <da_s30316175> @77_frota Odiado pela direita e desprezado pela esquerda. E quando digo a esquerda, não são esses mortadelas sem noção que estão aqui no seu perfil. São os petistas graduados, os conhecidos do povão, tipo Zé de Abreu, Marcia Tiburi  entre outros....\n",
            "1595929403397111808 2022-11-24 23:56:35 +0000 <TaniaRa03388715> @77_frota Não desista. Inveja!\n",
            "1595929402017075200 2022-11-24 23:56:35 +0000 <andmarqp1> @77_frota Declina não frota pois vc fez um trabalho impecável contra o coisa ruin!\n",
            "1595929400486367232 2022-11-24 23:56:34 +0000 <Ladraonaosobe> @jufero72 @Lili_afns @77_frota Não... porque caráter vem de berço.\n",
            "1595929381582516224 2022-11-24 23:56:30 +0000 <Ze_Braz> @77_frota Pq vc não manda o Zé tomar no Kool logo?! 🤔\n",
            "1595929379900903424 2022-11-24 23:56:29 +0000 <ivanogueira100> @77_frota Ué!  ...por que será que não se reelegeu?  Seria porque traiu o padrinho?  \"Nunca\" mais será eleito a nada.  A parrir de agora, vai ficar batendo na porta de gabinetes atrás de cargo.\n",
            "1595929365208043525 2022-11-24 23:56:26 +0000 <welling47549435> @77_frota Vá em frente não esquente com isso não , isso e minoria ...\n",
            "1595929363119235072 2022-11-24 23:56:25 +0000 <BaraoAlmeida1> @77_frota Você merece seu Histórico é  de pecados e ninguém quer um cara assim sendo que não vai assumir com certeza Bolsonaro vai voltar e o Brasil voltar novamente na paz!!!🇧🇷👊  https://t.co/MUuVKe7SfN\n",
            "1595929360405778433 2022-11-24 23:56:25 +0000 <Marcio89856884> @77_frota Tá de sacanagem,  @77_frota ? Não corre desses caras, não.  Esse é um governo de todos, não somente da Esquerda.  É  plural.\n",
            "1595929360095010816 2022-11-24 23:56:25 +0000 <Re_a_li_tys> @77_frota vc deveria aceitar sim.  vc fez muitoooo durante a campanha.\n",
            "1595929350045839361 2022-11-24 23:56:22 +0000 <ReideAra> @JuniaAlmeida @77_frota A gente perde em quê? Diga aí. Por favor,lerei com atenção.\n",
            "1595929350003728384 2022-11-24 23:56:22 +0000 <Lili_afns> @77_frota Ignore o ator grosseiro e amargurado e a filósofa de meia-pataca, seu empenho na campanha do Lula o fez merecer o convite pra equipe de transição, o senhor mostrou que abandonou o bolsonarismo e se reinventou, fez um mandato bonito... Não recuse o convite, por favor...\n",
            "1595929348183580672 2022-11-24 23:56:22 +0000 <Anacris41403706> @77_frota 👏👏👏👏👏👏\n",
            "1595929346744602625 2022-11-24 23:56:21 +0000 <AntnioFabianoS1> @77_frota Tu é fresco é !\n",
            "1595929346367442946 2022-11-24 23:56:21 +0000 <DrielSS> @77_frota Em respeito às pessoas que te seguem e acreditam no seu trabalho não faz isso\n",
            "1595929344064606211 2022-11-24 23:56:21 +0000 <cabecademakako> @77_frota Pronto @marciatiburi .....  Satisfeita?\n",
            "1595929340142911489 2022-11-24 23:56:20 +0000 <o_barreto75> @77_frota Vc é o CARA. QUEM FALA ESTA AI SÓ PRA ISSO MESMO ... FALAR. VC ESTA INDO LA PARA FAZER. SUCESSO E BOA SORTE\n",
            "1595929333885198338 2022-11-24 23:56:18 +0000 <simone_sarda> @77_frota Frota, você já demonstrou ao Brasil que é uma pessoa que merece este convite. Relaxa, não de ouvidos à baboseiras. Siga seu coração.\n",
            "1595929325668569089 2022-11-24 23:56:16 +0000 <ElainePontal> @77_frota \"inclusive a minha família\" talvez pq te conheça muito bem e sabe da sua índole bem questionável\n",
            "1595929324905168896 2022-11-24 23:56:16 +0000 <Gutembe65602731> @77_frota Caiu do Céu um milagre graça a Deus\n",
            "1595929324380635136 2022-11-24 23:56:16 +0000 <enoughabastard> Eu morro de vergonha dessa esquerda ridicula q a gente tem....Aposto, q são os alecrim dourado e aí no off tá tudo no P0rn Hu/b. Uma pena o Frota ter saído.\n",
            "1595929318160535552 2022-11-24 23:56:15 +0000 <Silvana85383608> @77_frota Alexandre você tem sido de grande colaboração ,e hora de unirmos forças ,deixa essa esquerda festiva pra lá ,você tem denunciado e contribuído com tanta coisa,tem apoio ,não são dois ou três que vão mudar isso\n",
            "1595929313005682690 2022-11-24 23:56:13 +0000 <skysaid> @77_frota Ei, MANÉ. NÃO AMOLA. NÃO INCLUI MINHA FAMÍLIA EM GOLPE.\n",
            "1595929311281815553 2022-11-24 23:56:13 +0000 <Valantenor> @77_frota Se vc foi convidado é porque a equipe de transição achou viável.  Quem nao faz parte da equipe é que esta enchendo,  deve ser dor de cotovelo. Vai sim e mistra que tem potencial pra contribuir\n",
            "1595929301689384960 2022-11-24 23:56:11 +0000 <kellykristina22> @77_frota  https://t.co/mKYuAXcgaH\n",
            "1595929293623857152 2022-11-24 23:56:09 +0000 <cadu99> @hth_paulo @77_frota Só se for como dama da noite\n",
            "1595929287416233984 2022-11-24 23:56:07 +0000 <icpini> @77_frota Uma pena, Frota, vc se deixar abater por essa galera recalcada. Seu papel nos últimos anos auxiliou, e mto, na nossa vitória. Vc cresceu, aliás, vc ficou GIGANTE e acho mais do que merecido o convite. Espero que vc repense e não se deixe abalar por essa galera...\n",
            "1595929286191480835 2022-11-24 23:56:07 +0000 <XandyNovaski> @77_frota Continue, rapaz! Vc é parte da história da nossa teledramaturgia, ou seja, tb é parte da nossa cultura!\n",
            "1595929275890556929 2022-11-24 23:56:04 +0000 <FabianaG0103> @77_frota não desista da transição\n",
            "1595929261323743232 2022-11-24 23:56:01 +0000 <savanadobrasil> @IuliVieira @77_frota Ele está recusando nesse momento abrindo mão por causa de vocês, idiotas. Ele tem 30 anos na cultura. Participou da comissão foi importante pra aprovar projetos na área. Fez mto mais pelo progressismo do que muitos eleitos pela esquerda. Fizeram c ele o oposto do lula.\n",
            "1595929241241411585 2022-11-24 23:55:56 +0000 <cleiejviana> @77_frota Fecha os olhos e só vai,dar ouvidos e perder energia com esses alienados... XAPRALA!\n",
            "1595929230944206848 2022-11-24 23:55:54 +0000 <daniramosl2> @77_frota Eu hein! Não faça isso! Não dê ouvidos a quem não enxerga a realidade! Vc ajuda muito o Brasil! Ajudou muito e vai continuar a ajudar. Eu hein. Vc dando ouvidos a essas pessoas? Estou estranhando. Cadê sua força?\n",
            "1595929224715673612 2022-11-24 23:55:52 +0000 <dirce_tia> @77_frota *DECLINA NÃO, FROTA!\n",
            "1595929197414866944 2022-11-24 23:55:46 +0000 <Chegueiagora93> @77_frota Tá bom 😊  https://t.co/zYYJZA7Knb\n",
            "1595929191991517186 2022-11-24 23:55:44 +0000 <LiraVenicios> @77_frota Aham QR pular fora do Titanic 🤣🤣\n",
            "1595929191853481984 2022-11-24 23:55:44 +0000 <jperrone01> @77_frota E o desespero dos esquerdinhas aumentando...... Vai faltar cadeia para os traidores  da  Pátria.\n",
            "1595929179769413633 2022-11-24 23:55:42 +0000 <RafaelB67086761> @77_frota Uma coisa tem que ser dita , vc é um excelente ator , quase fez todo mundo acreditar que vc era de direita e um cidadão de bem . Mas o tempo faz as máscaras caírem\n",
            "1595929178020663296 2022-11-24 23:55:41 +0000 <Gaucholegal63> @77_frota Tua família somos nós Frota! Não faz isso! Aceita e enfrenta como sabemos que sabes enfrentar as brigas!\n",
            "1595929177685135362 2022-11-24 23:55:41 +0000 <manoelvct> @77_frota Tu sempre foi sincero e parece ser um cara verdadeiro, autêntico. Independente das escolhas erradas que você tenha feito na vida, todos nós erramos e não somos perfeitos. Os falsos moralistas da esquerda julgam de forma injusta, sem te conhecerem. Desejo sucesso! Cap. Monumento\n",
            "1595929162317021185 2022-11-24 23:55:37 +0000 <RicardoOsman> @77_frota Já critiquei esse pessoal de esquerda que tá falando isso! Não são todos! É uma turma que seria a primeira a correr se houvesse golpe!  Esquecem a tua luta no primeiro segundo turno, quando muitos destes não saíram do sofá!\n",
            "1595929147452588033 2022-11-24 23:55:34 +0000 <ReideAra> @77_frota \"Ďeclinei\" popularmente conhecido como: - Alô Frota, sabe como é...repercussão forte...não vai dar pra vc entrar dessa vez não. Mas não se preocupe...nós vamos te ajeitar.\n",
            "1595929138434547713 2022-11-24 23:55:32 +0000 <DuranBonis> @77_frota Não declina não!!!\n",
            "1595929136194805763 2022-11-24 23:55:31 +0000 <tgr_321> @77_frota Segue firme!\n",
            "1595929130536951808 2022-11-24 23:55:30 +0000 <Rangel_Alvaro> @77_frota Não exagere. Te defendi. Supus que vc fez autocrítica. Mas isso não apaga um monte de coisas que vc fez e falou no âmbito da política nos últimos tempos, antes de vc fazer autocrítica.\n",
            "1595929128989249537 2022-11-24 23:55:29 +0000 <dirce_tia> @77_frota É ISSO Q ELES QUEREM! ALIÁS É ESSE POVO Q SEMPRE MAMOU NAS TETAS QUE QUEIMOU O FILME DA ESQUERDA, PORQUE DE CERTA FORMA SEMPRE CONSEGUIRAM SE MANTER ABOVANHANDO TUDO POR SEUS PESSOALISMOS GARANTINDO EDITAIS E APROVEITANDO BOQUINHAS! DECLINA, NÃO, FROTA!\n",
            "1595929117052092416 2022-11-24 23:55:27 +0000 <DrielSS> @77_frota Sou de esquerda e super apoio vc na transição\n",
            "1595929115638616065 2022-11-24 23:55:26 +0000 <Ladraonaosobe> @Raquel_vm1983 @77_frota Com foto de presidiário acusando os outros de bandido, pqp\n",
            "1595929106478419968 2022-11-24 23:55:24 +0000 <fejuebo> @77_frota Você não abaixou a cabeça para bolsonaro , não abaixara agora para esse povo invejoso\n",
            "1595929098622492672 2022-11-24 23:55:22 +0000 <RenatoS62197316> @_taft @77_frota Ele vai criar filme porno kkkk\n",
            "1595929091034996737 2022-11-24 23:55:20 +0000 <Paulo49027752> @77_frota Faz o L\n",
            "1595929090036752384 2022-11-24 23:55:20 +0000 <L85ferreira> @77_frota Não faça isso. Mostre seu trabalho e deixe os recalcados p lá. Força mano.\n",
            "1595929087171698688 2022-11-24 23:55:19 +0000 <eujosuegomes> @77_frota Brother ninguém gosta de tu. Tu é rejeitado por todos os lados. Desiste\n",
            "1595929086324613121 2022-11-24 23:55:19 +0000 <catiacalheiros> @77_frota  https://t.co/mV4oCuTqZm\n",
            "1595929061528047616 2022-11-24 23:55:13 +0000 <PetistaSuper> @77_frota Conta pra nós se ficou bom?  https://t.co/zvRgEs4xzp\n",
            "1595929055899287552 2022-11-24 23:55:12 +0000 <clubdodom> @MaximoCassia @77_frota @AndreJanonesAdv @gleisi @senadorhumberto @samiabomfim @alexandre @STF_oficial @TSEjusbr Faz RT, Cássia e marca vários políticos\n",
            "1595929054086995969 2022-11-24 23:55:12 +0000 <fsalexandre> @77_frota Pô sério? Vai desistir assim fácil? Faz isso não cara\n",
            "1595929046378229760 2022-11-24 23:55:10 +0000 <JPereirvieira> @77_frota Não achei legal sua indicação, mas q se dane o q eu acho…… kkkkk vc seria necessário sim !!!\n",
            "1595929037968666628 2022-11-24 23:55:08 +0000 <JoanaDa20359358> @77_frota Não recuse, hora de união. Tem muita luta pela frente.\n",
            "1595929023980240897 2022-11-24 23:55:04 +0000 <GuideFaria> @77_frota Uma esquera punitivista e preconceituosa.\n",
            "1595929019387518977 2022-11-24 23:55:03 +0000 <EvelineFontele> @77_frota Alexandre, assim como tu, diversos parlamentares perceberam, a tempo, o fosso no qual estavam fadados a afundar; perceberam que Bolsonaro era puro esgoto.  Cearense como sou, tu lutaste pela democracia, a tempo, muito mais que o “progressista” Ciro.\n",
            "1595929009082273793 2022-11-24 23:55:01 +0000 <PedroJo06512765> @77_frota Segue fazendo o que tu se dispôs a fazer  Está sendo um excelente trabalho e segue em frente Eu sinto os ataques a sua família mas infelizmente Blinda eles e vai em frente Lula confia em ti eu confio nele e em você .\n",
            "1595928999603376129 2022-11-24 23:54:59 +0000 <HELENINHARJ> @TATA22s @JOSRICA70964545 @77_frota Não posso ir contra vc., sou prova viva disso! Fiquei internada 29 dias por causa dessa vacina da pfizer! E detalhe, nunca fiquei doente e nunca precisei tomar remédio! Antes que digam que é mentira, tenho provas! Fui internada no mesmo dia que tomei!\n",
            "1595928997334241281 2022-11-24 23:54:58 +0000 <lili2022_lula> @77_frota Olha para aqueles que estão te elogiando e ignora o resto.\n",
            "1595928989515776006 2022-11-24 23:54:56 +0000 <zanuja_cbranco> @77_frota Acho q vc deveria aceitar sim o convite e fazer parte da transição. Vc tem muito a contribuir. Repense seu posicionamento.\n",
            "1595928989150990336 2022-11-24 23:54:56 +0000 <AenderPereira> @77_frota Não concordo. Você foi demais na ajuda ao Lula. Passe por cima e aceite.\n",
            "1595928977113501697 2022-11-24 23:54:53 +0000 <Dsp74168> @77_frota Ñ faça isso. Vc vai estar atendendo aqueles q se acham melhores q outros. Vc deu muito sangue nessa campanha e merece fazer parte desse processo histórico. Reveja essa decisão e ñ se deixe levar por analfabetos políticos.\n",
            "1595928953574735877 2022-11-24 23:54:48 +0000 <Edicarlos2D> @77_frota Não faça isso.\n",
            "1595928951804907520 2022-11-24 23:54:47 +0000 <ClaudiaFadia> @77_frota Não dá esta moral pra eles, sabemos da tua luta nesta campanha, esclarecendo os eleitores e desmentindo as fake news, segue o teu trabalho.\n",
            "1595928944519389184 2022-11-24 23:54:45 +0000 <AbcyMarcia> @77_frota Nem esquenta, foi merecido e vc tem muito pra nos ajudar 👏\n",
            "1595928933672755200 2022-11-24 23:54:43 +0000 <RospockA> @77_frota Reconheço seu engajamento e te apoio!\n",
            "1595928931932438530 2022-11-24 23:54:42 +0000 <DuqueGalvao> @77_frota Avante Deputado! @77_frota  Deixe que falem!🤗\n",
            "1595928927377424385 2022-11-24 23:54:41 +0000 <taniamara79> @77_frota Aceita o convite. Eles que esperneiem.\n",
            "1595928921882886145 2022-11-24 23:54:40 +0000 <N68Ag> @77_frota 100% correto. A frase \"o passado não importa\" só vale para mulheres\n",
            "1595928919299198976 2022-11-24 23:54:39 +0000 <Carlos_CE1988> @77_frota Siga em frente Alexandre!!! Ignore os invejosos!\n",
            "1595928911291957248 2022-11-24 23:54:38 +0000 <josiane24071983> @77_frota Ataques são recíprocos, indiferente do partido político não vejo isso em nenhum lado, vc tbm fica de gracinha, vcs tem que repensar suas atitudes.\n",
            "1595928908939104257 2022-11-24 23:54:37 +0000 <telisLilika> @Liizsxz @77_frota e esses caloteiros, que tu me diz?  https://t.co/5vH30e0A8T\n",
            "1595928903033421827 2022-11-24 23:54:36 +0000 <Anna_Os2> @77_frota Olha só, se tu pode contribuir (e acho q pode), vai lá, aceita esse convite e faz bem feito. N há melhor forma d lidar com a torcida negativa, do q ir lá e mostrar q todos eles estavam errados. Só bons jogadores são escalados\n",
            "1595928901506977793 2022-11-24 23:54:35 +0000 <Meirilidf> @77_frota O q vc tem haver com isso?\n",
            "1595928898059276288 2022-11-24 23:54:34 +0000 <DrielSS> @77_frota Não liga Frota\n",
            "1595928888953425921 2022-11-24 23:54:32 +0000 <CarlosMagnoQue2> @77_frota Decline não!!!!! Ninguém é unanimidade,  jogue duro lá rapaz\n",
            "1595928881760026624 2022-11-24 23:54:30 +0000 <DavidCaju1> @77_frota Faz isso não! Vc num tá vendo q todo Alexandre é importante p combater o mal. Vc foi convidado, mostra o teu melhor, deixa as coisas acontecerem e manda Zé de Abreu e cia se fuderem. Não demonstre fraqueza agora, vc não é\n",
            "1595928853016449025 2022-11-24 23:54:24 +0000 <joao_apocalipse> @77_frota Não vão pagar porque irão impixar o Xandão com seus cupinxas.\n",
            "1595928844535758848 2022-11-24 23:54:22 +0000 <RenatoS62197316> @77_frota Meu deus vc na.cultura.. seria piada..\n",
            "1595928838630170624 2022-11-24 23:54:20 +0000 <marciafrancis16> @77_frota Do mesmo jeito que te  atacam, muitos te defendem. Vai pra cima, não dá confiança pra essa gente.  Mostra o quanto você é guerreiro.  Estamos com você.  Força!\n",
            "1595928835333275648 2022-11-24 23:54:19 +0000 <Cristia00509660> @77_frota Frota vc é importante! O que vc fez ou deixou de fazer no seu passado só importa a vc, e vc me representa: assim como eu votamos no bozo e nos arrependemos e fizemos campanha pro Lula vencer! Por favor não decline!\n",
            "1595928833831718913 2022-11-24 23:54:19 +0000 <Fmendesx> @77_frota Não dê importância p pessoas q não querem contribuir em nada. Fique na paz ☮️\n",
            "1595928833596833792 2022-11-24 23:54:19 +0000 <MelloValzinha> @77_frota Tá louco.... Para com isso frota. Eu acredito em vc. E sei q vc vai fazer o seu melhor.\n",
            "1595928828991389696 2022-11-24 23:54:18 +0000 <rockchap> @77_frota Fica frio, o tempo é o senhor da razão.  Vc foi mais importante nessas eleições do que aqueles que te criticam.\n",
            "1595928828622274565 2022-11-24 23:54:18 +0000 <deniseburns19> @77_frota Esse pensamento preconceituoso não eh de todos. Lamento sua decisão. Seja feliz!\n",
            "1595928802483474432 2022-11-24 23:54:12 +0000 <gilvaniaferreir> @77_frota Frota eu também falei mal de vc (me desculpe) quando em 2018 vcs se elegeu pelo psl antigo partido do Pangaré, então agora te vejo de uma outra forma. Então releve esses ataques, o mais importante é vc está com a consciência tranquila e saber que vc está ajudando o povo brasileir\n",
            "1595928796737449984 2022-11-24 23:54:10 +0000 <MarcelCamargo77> @77_frota Vc é um camarada da superação. Participar de um governo, de um bom governo como esse é uma oportunidade única. Poderia aprender e contribuir. Se os caras estão confiando em vc, dê uma chance pra si tb. Pq não…\n",
            "1595928794312974337 2022-11-24 23:54:10 +0000 <CartigatM> @77_frota Deputado, permaneça no GT da transição. As críticas são naturais, mas você é a prova de que todos podemos errar, mas poucos são capazes de reescrever SUA HISTÓRIA.\n",
            "1595928786973110272 2022-11-24 23:54:08 +0000 <PetistaSuper> @77_frota Por falar em família, como tá aquele teu filho que tá na Bélgica? Ele tá se dando na área de filmes adultos? Sucesso ao rapaz.  https://t.co/KKtBvp433d\n",
            "1595928765259022336 2022-11-24 23:54:03 +0000 <HenriqkM> Pessoalmente não vejo problema na indicação de Alexandre Frota para a equipe de transição do governo eleito. Apesar das contestações legítimas de mulheres e homossexuais. O que fica estranho é o silêncio da indicação de pessoas como Marta Suplicy e a não presença de Dilma Roussef\n",
            "1595928761618374656 2022-11-24 23:54:02 +0000 <ReideAra> @77_frota Frota deu de ré pela segunda vez. Na primeira ele estava com a Bianca...\n",
            "1595928745344376832 2022-11-24 23:53:58 +0000 <rosaelavanda> @77_frota Vai lá Frota e faz.\n",
            "1595928727263019009 2022-11-24 23:53:54 +0000 <TRUEBA2020> @77_frota Faz isso não. Não baixe a cabeça.\n",
            "1595928721277747200 2022-11-24 23:53:52 +0000 <telisLilika> @FrancaRosalva @77_frota  https://t.co/5vH30e17Yr\n",
            "1595928710741368833 2022-11-24 23:53:50 +0000 <jpapgui> @77_frota Pô Frota se vc foi convidado é pq eles confiam no teu trabalho! Não dá moral pra Bolsominion recalcado e com telhado de vidro não!! Aceita sim!!!\n",
            "1595928701740490756 2022-11-24 23:53:48 +0000 <ana_hizo> @77_frota Não!🥺\n",
            "1595928685202505730 2022-11-24 23:53:44 +0000 <Daniel44444812> @77_frota Noffa, acho que vou chorar.😂😂😂  https://t.co/eAyoYNgoIR\n",
            "1595928676251893760 2022-11-24 23:53:41 +0000 <_sandelacruz> @77_frota Complicado isso, uma coisa são críticas, outra coisa são ataques. Acho que você merecia um crédito pelo menos, tem feito um trabalho de apoio a democracia. Embora algumas pessoas não vejam e outras não querem ver.\n",
            "1595928649160855552 2022-11-24 23:53:35 +0000 <DanDarebr> @77_frota  https://t.co/6EurLtKjye\n",
            "1595928641023754242 2022-11-24 23:53:33 +0000 <ChiaraGibbin> @77_frota Frota, vc nunca foi de ligar pra opinião dos outros... siga seu coração e saiba que vc é muito importante nesse momento.\n",
            "1595928630294908928 2022-11-24 23:53:31 +0000 <Camila73071145> @77_frota Vc não trabalha para eles (os críticos) e nem por eles. Isso não deveria importar. É uma pena.\n",
            "1595928626339672064 2022-11-24 23:53:30 +0000 <lalissa28> @77_frota Uma pena…\n",
            "1595928611802038274 2022-11-24 23:53:26 +0000 <ritacaalmeida> @77_frota @Amo2Adri Não dê ouvidos pra essa gente preconceituosa. Vai lá e faz seu trabalho.\n",
            "1595928609990250497 2022-11-24 23:53:26 +0000 <amazona_do> @77_frota #NãoAoPacotedoVeneno\n",
            "1595928604927467520 2022-11-24 23:53:24 +0000 <iagoraaa> @77_frota não liga não, kingo!\n",
            "1595928602922881024 2022-11-24 23:53:24 +0000 <oluaspf> @77_frota Cara, faz isso não. Bola pra frente e deixa essa galera pastar!\n",
            "1595928597734252546 2022-11-24 23:53:23 +0000 <joaopocs> @marciatiburi Eu acredito que frota não tem merecimento para está no novo governo. Talvez no futuro , ele pode ser tornar alguém merecedor. Política é muito de hipocrisia. E sabemos que têm uma esquerda burguesa gourmet que vive em outra realidade e se acha a Dina da razão.\n",
            "1595928590633553921 2022-11-24 23:53:21 +0000 <Eusouowagnersim> @77_frota Não deixe a hipocrisia vencer. Continue seu trabalho que é um ótimo deputado isso que importa. Aceitar o convite é sobre ajudar o País. 👍🏻\n",
            "1595928589584695296 2022-11-24 23:53:21 +0000 <mpenha20031> @77_frota Se você viu os ataques também deve ter visto as defesas. Não decline. A maioria quer ver você lá brilhando como fez durante a campanha. Estou torcendo por você.\n",
            "1595928588859183105 2022-11-24 23:53:21 +0000 <MarizaPinto75> @77_frota Acho que já se aceitou muita coisa em prol så democracia  portanto não vejo problema algum receber ajuda de quem fez a mea culpa e tá disposta a ajudar.\n",
            "1595928585927557120 2022-11-24 23:53:20 +0000 <Edicarlos2D> @77_frota Não parça, por conta disso não, se mantenha firme e não decline de nada . Vamos a luta!\n",
            "1595928584060903424 2022-11-24 23:53:20 +0000 <BoucasAngela> @77_frota Vai que sua Frota!\n",
            "1595928582978940928 2022-11-24 23:53:19 +0000 <TRUEBA2020> @77_frota Liga não. Segue o jogo.\n",
            "1595928576934936576 2022-11-24 23:53:18 +0000 <rpmrog1> @77_frota Voce nao é diferente você e mau carater\n",
            "1595928572686131201 2022-11-24 23:53:17 +0000 <abruunaaa> @77_frota Não! Não faça isso! se o convite foi feito é pq eles confiam em você e no seu trabalho. É pq é competente no que faz! Não deixe pessoas amarguradas estragarem seu legado!\n",
            "1595928571843080192 2022-11-24 23:53:17 +0000 <mmarciam> @77_frota NÃO!!! Você tem muito apoio, cara! E pode, sim, contribuir muito.\n",
            "1595928570131800064 2022-11-24 23:53:16 +0000 <Marla2121> @77_frota Não liga não! Se Lula e Alckmim te escolheram é pq vc é importante para a transição! As pessoas são invejosas! De o seu melhor e fique bem!\n",
            "1595928565178314752 2022-11-24 23:53:15 +0000 <stelasapio> @77_frota Não faça isso, tem mta gente apoiando. Vc será importante na equipe, assim como tem sido no congresso.\n",
            "1595928560451358720 2022-11-24 23:53:14 +0000 <Alexand74397422> @77_frota Vá lá e apenas faça o seu trabalho\n",
            "1595928555950641153 2022-11-24 23:53:13 +0000 <FerPaula10> @77_frota Não declinaaaaaaaa !!! É nessa hora que vc tem oportunidade de ficar ainda mais gigante eeeee\n",
            "1595928547654537217 2022-11-24 23:53:11 +0000 <mariacr42603408> @77_frota Manda todos para........ dar uma volta nos quintos\n",
            "1595928544328450048 2022-11-24 23:53:10 +0000 <LauroReporter> @77_frota Relaxa bicho, foco na missão e no trabalho.\n",
            "1595928509960146946 2022-11-24 23:53:02 +0000 <guilborcorado> @77_frota Vc fez muito mais do que a maioria dos que reclamaram da sua indicação fizeram durante a campanha e até mesmo antes. To surpreso pela rejeição de alguns. tenho acompanhado seus posts e denúncias e vc foi um dos elementos cruciais nesse embate. Estou contigo!!\n",
            "1595928496873807872 2022-11-24 23:52:59 +0000 <_JoelJunior_> @77_frota  https://t.co/MUhv9cdQwE\n",
            "1595928482286272512 2022-11-24 23:52:55 +0000 <lo36837048> @77_frota LIGA NÃO FROTA!!  ESSE POVO RAIVOSO ESTÁ DOENTE! COITADOS!\n",
            "1595928480914591746 2022-11-24 23:52:55 +0000 <AlessandraBrvna> @77_frota Não faz isso não, aceite o convite.\n",
            "1595928478318153729 2022-11-24 23:52:54 +0000 <FlaviaSamaraM> @77_frota Ignora essa gente mesquinha e mostra seu trabalho!\n",
            "1595928474597867520 2022-11-24 23:52:53 +0000 <paisceara> Concordo com o Frota. Tenho visto uns ataques bem sem sentido contra ele..\n",
            "1595928456772358145 2022-11-24 23:52:49 +0000 <cdccapital1992> @77_frota Não deixe o preconceito dos radicais gourmet prevalecer. Eles que se cocem. A frente ampla é bem maior que a alazinha deles. Força!\n",
            "1595928453400137728 2022-11-24 23:52:48 +0000 <zecsb> @77_frota Que isso? Não decline do convite. Continue com a grande contribuição que vc tem dado desde a eleição.\n"
          ]
        }
      ]
    },
    {
      "cell_type": "markdown",
      "source": [
        "##Arquivos de treino"
      ],
      "metadata": {
        "id": "8RBkCHksVXHK"
      }
    },
    {
      "cell_type": "code",
      "source": [
        "neutro='/content/drive/MyDrive/INSPER/DEZEMBRO/MINERAÇÃO/arquivo neutro.txt'\n",
        "positivo='/content/drive/MyDrive/INSPER/DEZEMBRO/MINERAÇÃO/arquivo positivo.txt'\n",
        "negativo='/content/drive/MyDrive/INSPER/DEZEMBRO/MINERAÇÃO/arquivo negativo.txt'"
      ],
      "metadata": {
        "id": "yXtvIko3POm4"
      },
      "execution_count": null,
      "outputs": []
    },
    {
      "cell_type": "markdown",
      "source": [
        "##Importando mais bibliotecas"
      ],
      "metadata": {
        "id": "TyG2YS3hVcqd"
      }
    },
    {
      "cell_type": "code",
      "source": [
        "from nltk.classify import NaiveBayesClassifier, MaxentClassifier, SklearnClassifier\n",
        "import csv\n",
        "from sklearn.svm import LinearSVC"
      ],
      "metadata": {
        "id": "EPhRQS5JQr1x"
      },
      "execution_count": null,
      "outputs": []
    },
    {
      "cell_type": "code",
      "source": [
        "from nltk.stem.porter import PorterStemmer\n",
        "import nltk\n",
        "\n",
        "nltk.download('punkt')\n",
        "from nltk.tokenize import word_tokenize"
      ],
      "metadata": {
        "colab": {
          "base_uri": "https://localhost:8080/"
        },
        "id": "0ThvRuS1RN1e",
        "outputId": "0d356758-7eb1-4055-8d33-3cf8a3d70aab"
      },
      "execution_count": null,
      "outputs": [
        {
          "output_type": "stream",
          "name": "stderr",
          "text": [
            "[nltk_data] Downloading package punkt to /root/nltk_data...\n",
            "[nltk_data]   Package punkt is already up-to-date!\n"
          ]
        }
      ]
    },
    {
      "cell_type": "markdown",
      "source": [
        "##Criando a bag of words"
      ],
      "metadata": {
        "id": "6nYwh7U3VhU2"
      }
    },
    {
      "cell_type": "code",
      "source": [
        "def divide(dados):\n",
        "  tokenized_dados = []\n",
        "  for s in dados:\n",
        "    tokenized_dados.append(word_tokenize(s))\n",
        "  return (tokenized_dados)\n",
        "\n",
        "frase_teste = '@77_frota Odiado pela direita e desprezado pela esquerda. E quando digo a esquerda, não são esses mortadelas sem noção que estão aqui no seu perfil. São os petistas graduados, os conhecidos do povão, tipo Zé de Abreu, Marcia Tiburi  entre outros....'\n",
        "print(divide([frase_teste]))"
      ],
      "metadata": {
        "colab": {
          "base_uri": "https://localhost:8080/"
        },
        "id": "x6Mqmd8ERRSo",
        "outputId": "c5a04f3f-754a-4f41-9c32-d8ecedc2a934"
      },
      "execution_count": null,
      "outputs": [
        {
          "output_type": "stream",
          "name": "stdout",
          "text": [
            "[['@', '77_frota', 'Odiado', 'pela', 'direita', 'e', 'desprezado', 'pela', 'esquerda', '.', 'E', 'quando', 'digo', 'a', 'esquerda', ',', 'não', 'são', 'esses', 'mortadelas', 'sem', 'noção', 'que', 'estão', 'aqui', 'no', 'seu', 'perfil', '.', 'São', 'os', 'petistas', 'graduados', ',', 'os', 'conhecidos', 'do', 'povão', ',', 'tipo', 'Zé', 'de', 'Abreu', ',', 'Marcia', 'Tiburi', 'entre', 'outros', '....']]\n"
          ]
        }
      ]
    },
    {
      "cell_type": "code",
      "source": [
        "def bag_of_words(palavras):\n",
        "    #print(palavras)\n",
        "    return dict([(palavra, palavras.count(palavra)) for palavra in palavras])\n",
        "\n",
        "negfeats = [(bag_of_words(f), 'neg') for f in divide([frase_teste])]     \n",
        "negfeats"
      ],
      "metadata": {
        "colab": {
          "base_uri": "https://localhost:8080/"
        },
        "id": "r3GEyZlURh4S",
        "outputId": "a57d7ce1-5e26-4d3a-b368-da9eb8847d55"
      },
      "execution_count": null,
      "outputs": [
        {
          "output_type": "execute_result",
          "data": {
            "text/plain": [
              "[({'@': 1,\n",
              "   '77_frota': 1,\n",
              "   'Odiado': 1,\n",
              "   'pela': 2,\n",
              "   'direita': 1,\n",
              "   'e': 1,\n",
              "   'desprezado': 1,\n",
              "   'esquerda': 2,\n",
              "   '.': 2,\n",
              "   'E': 1,\n",
              "   'quando': 1,\n",
              "   'digo': 1,\n",
              "   'a': 1,\n",
              "   ',': 4,\n",
              "   'não': 1,\n",
              "   'são': 1,\n",
              "   'esses': 1,\n",
              "   'mortadelas': 1,\n",
              "   'sem': 1,\n",
              "   'noção': 1,\n",
              "   'que': 1,\n",
              "   'estão': 1,\n",
              "   'aqui': 1,\n",
              "   'no': 1,\n",
              "   'seu': 1,\n",
              "   'perfil': 1,\n",
              "   'São': 1,\n",
              "   'os': 2,\n",
              "   'petistas': 1,\n",
              "   'graduados': 1,\n",
              "   'conhecidos': 1,\n",
              "   'do': 1,\n",
              "   'povão': 1,\n",
              "   'tipo': 1,\n",
              "   'Zé': 1,\n",
              "   'de': 1,\n",
              "   'Abreu': 1,\n",
              "   'Marcia': 1,\n",
              "   'Tiburi': 1,\n",
              "   'entre': 1,\n",
              "   'outros': 1,\n",
              "   '....': 1},\n",
              "  'neg')]"
            ]
          },
          "metadata": {},
          "execution_count": 31
        }
      ]
    },
    {
      "cell_type": "markdown",
      "source": [
        "##Treinando o algoritmo"
      ],
      "metadata": {
        "id": "JeBwTyUjVrAI"
      }
    },
    {
      "cell_type": "code",
      "source": [
        "def treina_classificadores(neutro,positivo,negativo):\n",
        "    posdados = [] \n",
        "    with open(positivo, 'r') as myfile:  \n",
        "        reader = csv.reader(myfile, delimiter=',')\n",
        "        for val in reader:\n",
        "            if len(val) > 0:\n",
        "                posdados.append(val[0])  \n",
        "\n",
        "    negdados = []\n",
        "    with open(negativo, 'r') as myfile:    \n",
        "        reader = csv.reader(myfile, delimiter=',')\n",
        "        for val in reader:\n",
        "            if len(val) > 0:\n",
        "                negdados.append(val[0])    \n",
        "\n",
        "    neudados = [] \n",
        "    with open(neutro, 'r') as myfile:    \n",
        "        reader = csv.reader(myfile, delimiter=',')\n",
        "        for val in reader:\n",
        "            if len(val) > 0:\n",
        "                neudados.append(val[0])                  \n",
        "\n",
        "  \n",
        "    negfeats = [(bag_of_words(f), 'neg') for f in divide(negdados)] \n",
        "    posfeats = [(bag_of_words(f), 'pos') for f in divide(posdados)] \n",
        "    neufeats = [(bag_of_words(f), 'neu') for f in divide(neudados)] \n",
        "   \n",
        "    treino = negfeats + posfeats + neufeats\n",
        "\n",
        "   \n",
        "    classificadorME = MaxentClassifier.train(treino, 'GIS', trace=0, encoding=None, labels=None, gaussian_prior_sigma=0, max_iter = 1)\n",
        "   \n",
        "    classificadorSVM = SklearnClassifier(LinearSVC(), sparse=False)\n",
        "    classificadorSVM.train(treino)\n",
        "   \n",
        "    classificadorNB = NaiveBayesClassifier.train(treino)\n",
        "    \n",
        "   \n",
        "    return ([classificadorME,classificadorSVM,classificadorNB])\n",
        "   \n",
        "classificadores = treina_classificadores(neutro,positivo,negativo)\n",
        "\n",
        "\n",
        "def classifica(sentencas, classificadores):\n",
        "    ret = []                        \n",
        "    for s in sentencas: \n",
        "        c = divide([s])\n",
        "        feats = bag_of_words(c[0])\n",
        "        classificacao = []\n",
        "        classificacao.append(classificadores[1].classify(feats))\n",
        "        classificacao.append(classificadores[2].classify(feats))\n",
        "        classificacao.append(classificadores[0].classify(feats))\n",
        "        ret.append(classificacao)\n",
        "    return ret"
      ],
      "metadata": {
        "id": "VDYcfRPEQxhE"
      },
      "execution_count": null,
      "outputs": []
    },
    {
      "cell_type": "markdown",
      "source": [
        "##Testando os classificadores"
      ],
      "metadata": {
        "id": "MRyKRvbhV0S_"
      }
    },
    {
      "cell_type": "code",
      "source": [
        "classificadorME = []\n",
        "classificadorSVM = []\n",
        "classificadorNB = []\n",
        "sentencas_classificadas = classifica(sentencas, classificadores)\n",
        "\n",
        "for item in sentencas_classificadas:  \n",
        "  classificadorME.append(item[0])\n",
        "  classificadorSVM.append(item[1])\n",
        "  classificadorNB.append(item[2])\n",
        "\n",
        "print (\"MAXENT neg = \" + str(classificadorME.count('neg'))+\" positivo = \" + str(classificadorME.count('pos'))+\" neutro = \" + str(classificadorME.count('neu')) )\n",
        "print (\"SVM neg = \" + str(classificadorSVM.count('neg'))+\" positivo = \" + str(classificadorSVM.count('pos'))+\" neutro = \" + str(classificadorSVM.count('neu')) )\n",
        "print (\"Naive Bayes neg = \" + str(classificadorNB.count('neg'))+\" positivo = \" + str(classificadorNB.count('pos'))+\" neutro = \" + str(classificadorNB.count('neu')) )\n",
        "\n",
        "\n"
      ],
      "metadata": {
        "colab": {
          "base_uri": "https://localhost:8080/"
        },
        "id": "EDwMIGMiTxsd",
        "outputId": "068bff6e-1a0d-455c-c613-696e59cd23df"
      },
      "execution_count": null,
      "outputs": [
        {
          "output_type": "stream",
          "name": "stdout",
          "text": [
            "MAXENT neg = 10 positivo = 10 neutro = 10\n",
            "SVM neg = 15 positivo = 7 neutro = 8\n",
            "Naive Bayes neg = 17 positivo = 10 neutro = 3\n"
          ]
        }
      ]
    },
    {
      "cell_type": "markdown",
      "source": [
        "##Testando com uma frase"
      ],
      "metadata": {
        "id": "gcT0ujOdV4ek"
      }
    },
    {
      "cell_type": "code",
      "source": [
        "classificadores = treina_classificadores(neutro,positivo,negativo)\n",
        "\n",
        "frase01 = 'Declina não frota pois vc fez um trabalho impecável contra o coisa ruin!'\n",
        "\n",
        "sentences = ['frase01']\n",
        "print (classifica(sentences, classificadores))"
      ],
      "metadata": {
        "colab": {
          "base_uri": "https://localhost:8080/"
        },
        "id": "TE8Fy8R0R5HD",
        "outputId": "a765177e-e767-4deb-9d69-a217e276a8a6"
      },
      "execution_count": null,
      "outputs": [
        {
          "output_type": "stream",
          "name": "stdout",
          "text": [
            "[['neg', 'pos', 'pos']]\n"
          ]
        }
      ]
    },
    {
      "cell_type": "markdown",
      "source": [
        "##Classificando outras frases"
      ],
      "metadata": {
        "id": "El5c6RKuV92c"
      }
    },
    {
      "cell_type": "code",
      "source": [
        "frase02 = '@77_frota Vá em frente não esquente com isso não , isso e minoria ...'\n",
        "frase03 = '@77_frota Você merece seu Histórico é  de pecados e ninguém quer um cara assim sendo que não vai assumir com certeza Bolsonaro vai voltar e o Brasil voltar novamente na paz!!!🇧🇷👊  https://t.co/MUuVKe7SfN'\n",
        "frase04 = '@77_frota Tá de sacanagem,  @77_frota ? Não corre desses caras, não.  Esse é um governo de todos, não somente da Esquerda.  É  plural.'\n",
        "frase05 = '@77_frota vc deveria aceitar sim.  vc fez muitoooo durante a campanha.'\n",
        "frase06 = '@77_frota Tu é fresco é !'\n",
        "frase07 = '@77_frota Caiu do Céu um milagre graça a Deus'\n",
        "frase08 = '@77_frota Ei, MANÉ. NÃO AMOLA. NÃO INCLUI MINHA FAMÍLIA EM GOLPE.'\n",
        "frase09 = '@77_frota Se vc foi convidado é porque a equipe de transição achou viável.  Quem nao faz parte da equipe é que esta enchendo,  deve ser dor de cotovelo. Vai sim e mistra que tem potencial pra contribuir'\n",
        "frase10 = '@77_frota Aham QR pular fora do Titanic 🤣🤣'"
      ],
      "metadata": {
        "id": "a5LyJ56pSJgH"
      },
      "execution_count": null,
      "outputs": []
    },
    {
      "cell_type": "code",
      "source": [
        "sentences = ['frase02']\n",
        "print (classifica(sentences, classificadores))"
      ],
      "metadata": {
        "colab": {
          "base_uri": "https://localhost:8080/"
        },
        "id": "YOoi8trDSvF-",
        "outputId": "5510829b-b19a-42ac-d6e2-54b75f814462"
      },
      "execution_count": null,
      "outputs": [
        {
          "output_type": "stream",
          "name": "stdout",
          "text": [
            "[['neg', 'pos', 'pos']]\n"
          ]
        }
      ]
    },
    {
      "cell_type": "code",
      "source": [
        "sentences = ['frase03']\n",
        "print (classifica(sentences, classificadores))"
      ],
      "metadata": {
        "colab": {
          "base_uri": "https://localhost:8080/"
        },
        "id": "G2xSpBUPSzaJ",
        "outputId": "af2ef476-a3aa-4698-a92f-b6cb43e73a76"
      },
      "execution_count": null,
      "outputs": [
        {
          "output_type": "stream",
          "name": "stdout",
          "text": [
            "[['neg', 'pos', 'pos']]\n"
          ]
        }
      ]
    },
    {
      "cell_type": "code",
      "source": [
        "sentences = ['frase04']\n",
        "print (classifica(sentences, classificadores))"
      ],
      "metadata": {
        "colab": {
          "base_uri": "https://localhost:8080/"
        },
        "id": "4rcHZnITS0j_",
        "outputId": "d8269fcd-2b94-486d-e14f-2a54b61ec37b"
      },
      "execution_count": null,
      "outputs": [
        {
          "output_type": "stream",
          "name": "stdout",
          "text": [
            "[['neg', 'pos', 'pos']]\n"
          ]
        }
      ]
    },
    {
      "cell_type": "code",
      "source": [
        "sentences = ['frase05']\n",
        "print (classifica(sentences, classificadores))"
      ],
      "metadata": {
        "colab": {
          "base_uri": "https://localhost:8080/"
        },
        "id": "TrjlcOhaS2po",
        "outputId": "fb77e6f9-6124-4279-e73c-a5fcd4fcce84"
      },
      "execution_count": null,
      "outputs": [
        {
          "output_type": "stream",
          "name": "stdout",
          "text": [
            "[['neg', 'pos', 'pos']]\n"
          ]
        }
      ]
    },
    {
      "cell_type": "code",
      "source": [
        "sentences = ['frase06']\n",
        "print (classifica(sentences, classificadores))"
      ],
      "metadata": {
        "colab": {
          "base_uri": "https://localhost:8080/"
        },
        "id": "F9YWVccFS4QF",
        "outputId": "f178b911-2baa-4c56-895a-2657c1c712d1"
      },
      "execution_count": null,
      "outputs": [
        {
          "output_type": "stream",
          "name": "stdout",
          "text": [
            "[['neg', 'pos', 'pos']]\n"
          ]
        }
      ]
    },
    {
      "cell_type": "code",
      "source": [
        "sentences = ['frase07']\n",
        "print (classifica(sentences, classificadores))"
      ],
      "metadata": {
        "colab": {
          "base_uri": "https://localhost:8080/"
        },
        "id": "R-l1fGK6S55M",
        "outputId": "f10c80fa-9dbf-458e-b29a-c6ab7cf15ffa"
      },
      "execution_count": null,
      "outputs": [
        {
          "output_type": "stream",
          "name": "stdout",
          "text": [
            "[['neg', 'pos', 'pos']]\n"
          ]
        }
      ]
    },
    {
      "cell_type": "code",
      "source": [
        "sentences = ['frase08']\n",
        "print (classifica(sentences, classificadores))"
      ],
      "metadata": {
        "colab": {
          "base_uri": "https://localhost:8080/"
        },
        "id": "KRcKUKY3S8bz",
        "outputId": "e914c1a5-a9ae-435a-f794-c6138a8523e3"
      },
      "execution_count": null,
      "outputs": [
        {
          "output_type": "stream",
          "name": "stdout",
          "text": [
            "[['neg', 'pos', 'pos']]\n"
          ]
        }
      ]
    },
    {
      "cell_type": "code",
      "source": [
        "sentences = ['frase09']\n",
        "print (classifica(sentences, classificadores))"
      ],
      "metadata": {
        "colab": {
          "base_uri": "https://localhost:8080/"
        },
        "id": "3Bl6pd3OS-Rk",
        "outputId": "4b05fef3-7639-4be4-9902-a383bd0d9b70"
      },
      "execution_count": null,
      "outputs": [
        {
          "output_type": "stream",
          "name": "stdout",
          "text": [
            "[['neg', 'pos', 'pos']]\n"
          ]
        }
      ]
    },
    {
      "cell_type": "code",
      "source": [
        "sentences = ['frase10']\n",
        "print (classifica(sentences, classificadores))"
      ],
      "metadata": {
        "colab": {
          "base_uri": "https://localhost:8080/"
        },
        "id": "kyslnhPvS_om",
        "outputId": "1a37f36d-81f9-45dc-96f7-476ce492caf3"
      },
      "execution_count": null,
      "outputs": [
        {
          "output_type": "stream",
          "name": "stdout",
          "text": [
            "[['neg', 'pos', 'pos']]\n"
          ]
        }
      ]
    }
  ]
}