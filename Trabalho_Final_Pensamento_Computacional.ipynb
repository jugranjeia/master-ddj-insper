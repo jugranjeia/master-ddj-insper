{
  "nbformat": 4,
  "nbformat_minor": 0,
  "metadata": {
    "colab": {
      "provenance": [],
      "include_colab_link": true
    },
    "kernelspec": {
      "name": "python3",
      "display_name": "Python 3"
    },
    "language_info": {
      "name": "python"
    }
  },
  "cells": [
    {
      "cell_type": "markdown",
      "metadata": {
        "id": "view-in-github",
        "colab_type": "text"
      },
      "source": [
        "<a href=\"https://colab.research.google.com/github/jugranjeia/master-ddj-insper/blob/main/Trabalho_Final_Pensamento_Computacional.ipynb\" target=\"_parent\"><img src=\"https://colab.research.google.com/assets/colab-badge.svg\" alt=\"Open In Colab\"/></a>"
      ]
    },
    {
      "cell_type": "markdown",
      "source": [
        "**Objetivo:** Automatizar a busca em sites de notícias que contenham as expressões \"regulação de redes sociais\", \"regulamentação de redes sociais\", \"regulação de redes\", \"regulamentação da internet\" e \"regulação da internet\".\n",
        "\n",
        "**Sites que devem ser monitorados:** Folha de S.Paulo, Teletime e Poder 360 (posteriormente, a intenção é agregar Estadão, Jota e TeleSíntese)."
      ],
      "metadata": {
        "id": "0w1oJgNMNLG_"
      }
    },
    {
      "cell_type": "code",
      "execution_count": null,
      "metadata": {
        "id": "iJE9kEMwNHn6"
      },
      "outputs": [],
      "source": [
        "import requests\n",
        "import pandas as pd"
      ]
    },
    {
      "cell_type": "code",
      "source": [
        "from bs4 import BeautifulSoup\n",
        "import datetime "
      ],
      "metadata": {
        "id": "AFAMD-jxPZaE"
      },
      "execution_count": null,
      "outputs": []
    },
    {
      "cell_type": "markdown",
      "source": [
        "**Teletime** - \"regulação de redes\""
      ],
      "metadata": {
        "id": "_sP_7V25YXPV"
      }
    },
    {
      "cell_type": "code",
      "source": [
        "headers = {'user-agent': 'Mozilla/5.0'}\n",
        "\n",
        "resposta = requests.get('https://teletime.com.br/?s=%22regula%C3%A7%C3%A3o%20de%20redes%22',\n",
        "                        headers = headers)\n",
        "#resposta.text"
      ],
      "metadata": {
        "id": "awWru7YHfZmE"
      },
      "execution_count": null,
      "outputs": []
    },
    {
      "cell_type": "code",
      "source": [
        "listao = resposta.text\n",
        "#listao "
      ],
      "metadata": {
        "id": "Tdcp9j2vfY3O"
      },
      "execution_count": null,
      "outputs": []
    },
    {
      "cell_type": "code",
      "source": [
        "lista_news_regulacao = BeautifulSoup(listao, 'html.parser')\n",
        "#lista_news_regulacao"
      ],
      "metadata": {
        "id": "WION1v0HfKHM"
      },
      "execution_count": null,
      "outputs": []
    },
    {
      "cell_type": "code",
      "source": [
        "requisicao=requests.get('https://teletime.com.br/?s=%22regula%C3%A7%C3%A3o%20de%20redes%22')"
      ],
      "metadata": {
        "id": "K-nmEoZGDuKU"
      },
      "execution_count": null,
      "outputs": []
    },
    {
      "cell_type": "code",
      "source": [
        "#requisicao.content"
      ],
      "metadata": {
        "id": "YnN6N7BYD9f3"
      },
      "execution_count": null,
      "outputs": []
    },
    {
      "cell_type": "code",
      "source": [
        "html=BeautifulSoup(requisicao.content)"
      ],
      "metadata": {
        "id": "pNCRpBNGEDM9"
      },
      "execution_count": null,
      "outputs": []
    },
    {
      "cell_type": "code",
      "source": [
        "html.findAll('div',{'td-block-row'})"
      ],
      "metadata": {
        "id": "I_bPEWtkFELQ"
      },
      "execution_count": null,
      "outputs": []
    },
    {
      "cell_type": "code",
      "source": [
        "html.find('div',{'td-block-span6'})"
      ],
      "metadata": {
        "id": "mnv5-ugeH8HU"
      },
      "execution_count": null,
      "outputs": []
    },
    {
      "cell_type": "code",
      "source": [
        "html.findAll('a')"
      ],
      "metadata": {
        "id": "3Btb2H97IcRr"
      },
      "execution_count": null,
      "outputs": []
    },
    {
      "cell_type": "code",
      "source": [
        "#lista_news_regulacao_search\n",
        "len(lista_news_regulacao.findAll('div', {'class':'td-block-row'}))"
      ],
      "metadata": {
        "colab": {
          "base_uri": "https://localhost:8080/"
        },
        "id": "oiosWJYGel8Z",
        "outputId": "6641029b-144b-438d-b971-1ba7ccd30ef8"
      },
      "execution_count": null,
      "outputs": [
        {
          "output_type": "execute_result",
          "data": {
            "text/plain": [
              "3"
            ]
          },
          "metadata": {},
          "execution_count": 12
        }
      ]
    },
    {
      "cell_type": "code",
      "source": [
        "#total_noticias_search\n",
        "len(lista_news_regulacao.findAll('div', {'class':'td-block-span6'}))"
      ],
      "metadata": {
        "colab": {
          "base_uri": "https://localhost:8080/"
        },
        "id": "nPWseHMigYCG",
        "outputId": "d3b3efb0-0761-4334-dd03-b11092ab71b6"
      },
      "execution_count": null,
      "outputs": [
        {
          "output_type": "execute_result",
          "data": {
            "text/plain": [
              "5"
            ]
          },
          "metadata": {},
          "execution_count": 13
        }
      ]
    },
    {
      "cell_type": "code",
      "source": [
        "lista_span6 = lista_news_regulacao.findAll('div', {'class':'td-block-span6'})\n",
        "noticias_teletime = []\n",
        "\n",
        "for span in lista_span6:\n",
        "  a = span.find('h3').find('a')\n",
        "  link = a['href']\n",
        "  titulo = a.text.strip()\n",
        "  data = span.find('span', attrs={'class': 'td-post-date'}).text.strip()\n",
        "\n",
        "  noticias_teletime.append([link, titulo, data, 'Teletime'])"
      ],
      "metadata": {
        "id": "88__siqew9zj"
      },
      "execution_count": null,
      "outputs": []
    },
    {
      "cell_type": "code",
      "source": [
        "df_teletime = pd.DataFrame(noticias_teletime, columns=['Link', 'Título', 'Data', 'Veículo'])\n",
        "df_teletime"
      ],
      "metadata": {
        "id": "O3gd6KSPCDid",
        "colab": {
          "base_uri": "https://localhost:8080/",
          "height": 206
        },
        "outputId": "3d7247ee-4b27-46c1-aa1a-5360df76a029"
      },
      "execution_count": null,
      "outputs": [
        {
          "output_type": "execute_result",
          "data": {
            "text/plain": [
              "                                                Link  \\\n",
              "0  https://teletime.com.br/06/12/2022/de-como-a-a...   \n",
              "1  https://teletime.com.br/09/03/2022/telcomp-que...   \n",
              "2  https://teletime.com.br/19/11/2020/mercado-de-...   \n",
              "3  https://teletime.com.br/24/02/2011/oi-net-e-ti...   \n",
              "4  https://teletime.com.br/02/01/2007/seae-faz-es...   \n",
              "\n",
              "                                              Título             Data  \\\n",
              "0  De Como a Anatel Pode Contribuir para a Regula...  06/12/22, 00:34   \n",
              "1  TelComp quer regras assimétricas para mercado ...  09/03/22, 19:13   \n",
              "2  Mercado de espectro, redes neutras e OCDE em p...  19/11/20, 23:14   \n",
              "3  Oi, Net e TIM têm visões diferentes sobre regu...  24/02/11, 23:00   \n",
              "4  Seae faz estudos sobre espectro e neutralidade...  02/01/07, 17:45   \n",
              "\n",
              "    Veículo  \n",
              "0  Teletime  \n",
              "1  Teletime  \n",
              "2  Teletime  \n",
              "3  Teletime  \n",
              "4  Teletime  "
            ],
            "text/html": [
              "\n",
              "  <div id=\"df-91da62c9-1740-4e0b-ab8d-092e6e189d9e\">\n",
              "    <div class=\"colab-df-container\">\n",
              "      <div>\n",
              "<style scoped>\n",
              "    .dataframe tbody tr th:only-of-type {\n",
              "        vertical-align: middle;\n",
              "    }\n",
              "\n",
              "    .dataframe tbody tr th {\n",
              "        vertical-align: top;\n",
              "    }\n",
              "\n",
              "    .dataframe thead th {\n",
              "        text-align: right;\n",
              "    }\n",
              "</style>\n",
              "<table border=\"1\" class=\"dataframe\">\n",
              "  <thead>\n",
              "    <tr style=\"text-align: right;\">\n",
              "      <th></th>\n",
              "      <th>Link</th>\n",
              "      <th>Título</th>\n",
              "      <th>Data</th>\n",
              "      <th>Veículo</th>\n",
              "    </tr>\n",
              "  </thead>\n",
              "  <tbody>\n",
              "    <tr>\n",
              "      <th>0</th>\n",
              "      <td>https://teletime.com.br/06/12/2022/de-como-a-a...</td>\n",
              "      <td>De Como a Anatel Pode Contribuir para a Regula...</td>\n",
              "      <td>06/12/22, 00:34</td>\n",
              "      <td>Teletime</td>\n",
              "    </tr>\n",
              "    <tr>\n",
              "      <th>1</th>\n",
              "      <td>https://teletime.com.br/09/03/2022/telcomp-que...</td>\n",
              "      <td>TelComp quer regras assimétricas para mercado ...</td>\n",
              "      <td>09/03/22, 19:13</td>\n",
              "      <td>Teletime</td>\n",
              "    </tr>\n",
              "    <tr>\n",
              "      <th>2</th>\n",
              "      <td>https://teletime.com.br/19/11/2020/mercado-de-...</td>\n",
              "      <td>Mercado de espectro, redes neutras e OCDE em p...</td>\n",
              "      <td>19/11/20, 23:14</td>\n",
              "      <td>Teletime</td>\n",
              "    </tr>\n",
              "    <tr>\n",
              "      <th>3</th>\n",
              "      <td>https://teletime.com.br/24/02/2011/oi-net-e-ti...</td>\n",
              "      <td>Oi, Net e TIM têm visões diferentes sobre regu...</td>\n",
              "      <td>24/02/11, 23:00</td>\n",
              "      <td>Teletime</td>\n",
              "    </tr>\n",
              "    <tr>\n",
              "      <th>4</th>\n",
              "      <td>https://teletime.com.br/02/01/2007/seae-faz-es...</td>\n",
              "      <td>Seae faz estudos sobre espectro e neutralidade...</td>\n",
              "      <td>02/01/07, 17:45</td>\n",
              "      <td>Teletime</td>\n",
              "    </tr>\n",
              "  </tbody>\n",
              "</table>\n",
              "</div>\n",
              "      <button class=\"colab-df-convert\" onclick=\"convertToInteractive('df-91da62c9-1740-4e0b-ab8d-092e6e189d9e')\"\n",
              "              title=\"Convert this dataframe to an interactive table.\"\n",
              "              style=\"display:none;\">\n",
              "        \n",
              "  <svg xmlns=\"http://www.w3.org/2000/svg\" height=\"24px\"viewBox=\"0 0 24 24\"\n",
              "       width=\"24px\">\n",
              "    <path d=\"M0 0h24v24H0V0z\" fill=\"none\"/>\n",
              "    <path d=\"M18.56 5.44l.94 2.06.94-2.06 2.06-.94-2.06-.94-.94-2.06-.94 2.06-2.06.94zm-11 1L8.5 8.5l.94-2.06 2.06-.94-2.06-.94L8.5 2.5l-.94 2.06-2.06.94zm10 10l.94 2.06.94-2.06 2.06-.94-2.06-.94-.94-2.06-.94 2.06-2.06.94z\"/><path d=\"M17.41 7.96l-1.37-1.37c-.4-.4-.92-.59-1.43-.59-.52 0-1.04.2-1.43.59L10.3 9.45l-7.72 7.72c-.78.78-.78 2.05 0 2.83L4 21.41c.39.39.9.59 1.41.59.51 0 1.02-.2 1.41-.59l7.78-7.78 2.81-2.81c.8-.78.8-2.07 0-2.86zM5.41 20L4 18.59l7.72-7.72 1.47 1.35L5.41 20z\"/>\n",
              "  </svg>\n",
              "      </button>\n",
              "      \n",
              "  <style>\n",
              "    .colab-df-container {\n",
              "      display:flex;\n",
              "      flex-wrap:wrap;\n",
              "      gap: 12px;\n",
              "    }\n",
              "\n",
              "    .colab-df-convert {\n",
              "      background-color: #E8F0FE;\n",
              "      border: none;\n",
              "      border-radius: 50%;\n",
              "      cursor: pointer;\n",
              "      display: none;\n",
              "      fill: #1967D2;\n",
              "      height: 32px;\n",
              "      padding: 0 0 0 0;\n",
              "      width: 32px;\n",
              "    }\n",
              "\n",
              "    .colab-df-convert:hover {\n",
              "      background-color: #E2EBFA;\n",
              "      box-shadow: 0px 1px 2px rgba(60, 64, 67, 0.3), 0px 1px 3px 1px rgba(60, 64, 67, 0.15);\n",
              "      fill: #174EA6;\n",
              "    }\n",
              "\n",
              "    [theme=dark] .colab-df-convert {\n",
              "      background-color: #3B4455;\n",
              "      fill: #D2E3FC;\n",
              "    }\n",
              "\n",
              "    [theme=dark] .colab-df-convert:hover {\n",
              "      background-color: #434B5C;\n",
              "      box-shadow: 0px 1px 3px 1px rgba(0, 0, 0, 0.15);\n",
              "      filter: drop-shadow(0px 1px 2px rgba(0, 0, 0, 0.3));\n",
              "      fill: #FFFFFF;\n",
              "    }\n",
              "  </style>\n",
              "\n",
              "      <script>\n",
              "        const buttonEl =\n",
              "          document.querySelector('#df-91da62c9-1740-4e0b-ab8d-092e6e189d9e button.colab-df-convert');\n",
              "        buttonEl.style.display =\n",
              "          google.colab.kernel.accessAllowed ? 'block' : 'none';\n",
              "\n",
              "        async function convertToInteractive(key) {\n",
              "          const element = document.querySelector('#df-91da62c9-1740-4e0b-ab8d-092e6e189d9e');\n",
              "          const dataTable =\n",
              "            await google.colab.kernel.invokeFunction('convertToInteractive',\n",
              "                                                     [key], {});\n",
              "          if (!dataTable) return;\n",
              "\n",
              "          const docLinkHtml = 'Like what you see? Visit the ' +\n",
              "            '<a target=\"_blank\" href=https://colab.research.google.com/notebooks/data_table.ipynb>data table notebook</a>'\n",
              "            + ' to learn more about interactive tables.';\n",
              "          element.innerHTML = '';\n",
              "          dataTable['output_type'] = 'display_data';\n",
              "          await google.colab.output.renderOutput(dataTable, element);\n",
              "          const docLink = document.createElement('div');\n",
              "          docLink.innerHTML = docLinkHtml;\n",
              "          element.appendChild(docLink);\n",
              "        }\n",
              "      </script>\n",
              "    </div>\n",
              "  </div>\n",
              "  "
            ]
          },
          "metadata": {},
          "execution_count": 11
        }
      ]
    },
    {
      "cell_type": "code",
      "source": [
        "#links"
      ],
      "metadata": {
        "id": "xiKuJxHcyG_i"
      },
      "execution_count": null,
      "outputs": []
    },
    {
      "cell_type": "code",
      "source": [
        "#titulos"
      ],
      "metadata": {
        "id": "f1Ur-vvW1OIs"
      },
      "execution_count": null,
      "outputs": []
    },
    {
      "cell_type": "markdown",
      "source": [
        "**Folha de S.Paulo** - \"moderação de redes\""
      ],
      "metadata": {
        "id": "RtBVgOTgYJ-J"
      }
    },
    {
      "cell_type": "code",
      "source": [
        "requisicao=requests.get('https://search.folha.uol.com.br/search?q=%22modera%C3%A7%C3%A3o+de+redes%22&periodo=todos&sd=&ed=&site=todos')"
      ],
      "metadata": {
        "id": "6zXxqO-6YN5h"
      },
      "execution_count": null,
      "outputs": []
    },
    {
      "cell_type": "code",
      "source": [
        "requisicao.content"
      ],
      "metadata": {
        "id": "mzjC4OP8egnB"
      },
      "execution_count": null,
      "outputs": []
    },
    {
      "cell_type": "code",
      "source": [
        "html=BeautifulSoup(requisicao.content)"
      ],
      "metadata": {
        "id": "o5YHkCN6emVq"
      },
      "execution_count": null,
      "outputs": []
    },
    {
      "cell_type": "code",
      "source": [
        "wrapper_materias = html.find('ol', {'class':'u-list-unstyled c-search'})\n",
        "lista_materias = wrapper_materias.findAll('li')\n",
        "len(lista_materias)"
      ],
      "metadata": {
        "id": "5J_x-Q5qezRe",
        "colab": {
          "base_uri": "https://localhost:8080/"
        },
        "outputId": "257b9007-549f-41ca-cfc6-4891d045b8b5"
      },
      "execution_count": null,
      "outputs": [
        {
          "output_type": "execute_result",
          "data": {
            "text/plain": [
              "3"
            ]
          },
          "metadata": {},
          "execution_count": 14
        }
      ]
    },
    {
      "cell_type": "code",
      "source": [
        "noticias_folha = []\n",
        "\n",
        "for materia in lista_materias:\n",
        "  headline = materia.find('div', attrs={'class': 'c-headline__wrapper'})\n",
        "  a = headline.find('a')\n",
        "  \n",
        "  link = a['href']\n",
        "  titulo = a.find('h2').text.strip()\n",
        "  data = a.find('div').text.strip()\n",
        "\n",
        "  noticias_folha.append([link, titulo, data, 'Folha'])"
      ],
      "metadata": {
        "id": "wQI68CzK3gGw"
      },
      "execution_count": null,
      "outputs": []
    },
    {
      "cell_type": "code",
      "source": [
        "df_folha = pd.DataFrame(noticias_folha, columns=['Link', 'Título', 'Data', 'Veículo'])\n",
        "df_folha"
      ],
      "metadata": {
        "id": "T3W0toGT6jk6",
        "colab": {
          "base_uri": "https://localhost:8080/",
          "height": 143
        },
        "outputId": "c29aacd6-5eec-4e10-bfef-5b4392e71cd1"
      },
      "execution_count": null,
      "outputs": [
        {
          "output_type": "execute_result",
          "data": {
            "text/plain": [
              "                                                Link  \\\n",
              "0  https://www1.folha.uol.com.br/mundo/2022/05/su...   \n",
              "1  https://www1.folha.uol.com.br/colunas/ross-dou...   \n",
              "2  https://www1.folha.uol.com.br/mercado/2021/09/...   \n",
              "\n",
              "                                              Título                  Data  \\\n",
              "0  Suprema Corte dos EUA barra lei do Texas que r...  31.mai.2022 às 21h32   \n",
              "1  O que a direita faz quando as grandes empresas...   4.mai.2022 às 17h34   \n",
              "2  MP de Bolsonaro dificulta combate a bullying e...    7.set.2021 às 4h00   \n",
              "\n",
              "  Veículo  \n",
              "0   Folha  \n",
              "1   Folha  \n",
              "2   Folha  "
            ],
            "text/html": [
              "\n",
              "  <div id=\"df-1da80010-d5a2-4375-9b4f-0a5092f4e749\">\n",
              "    <div class=\"colab-df-container\">\n",
              "      <div>\n",
              "<style scoped>\n",
              "    .dataframe tbody tr th:only-of-type {\n",
              "        vertical-align: middle;\n",
              "    }\n",
              "\n",
              "    .dataframe tbody tr th {\n",
              "        vertical-align: top;\n",
              "    }\n",
              "\n",
              "    .dataframe thead th {\n",
              "        text-align: right;\n",
              "    }\n",
              "</style>\n",
              "<table border=\"1\" class=\"dataframe\">\n",
              "  <thead>\n",
              "    <tr style=\"text-align: right;\">\n",
              "      <th></th>\n",
              "      <th>Link</th>\n",
              "      <th>Título</th>\n",
              "      <th>Data</th>\n",
              "      <th>Veículo</th>\n",
              "    </tr>\n",
              "  </thead>\n",
              "  <tbody>\n",
              "    <tr>\n",
              "      <th>0</th>\n",
              "      <td>https://www1.folha.uol.com.br/mundo/2022/05/su...</td>\n",
              "      <td>Suprema Corte dos EUA barra lei do Texas que r...</td>\n",
              "      <td>31.mai.2022 às 21h32</td>\n",
              "      <td>Folha</td>\n",
              "    </tr>\n",
              "    <tr>\n",
              "      <th>1</th>\n",
              "      <td>https://www1.folha.uol.com.br/colunas/ross-dou...</td>\n",
              "      <td>O que a direita faz quando as grandes empresas...</td>\n",
              "      <td>4.mai.2022 às 17h34</td>\n",
              "      <td>Folha</td>\n",
              "    </tr>\n",
              "    <tr>\n",
              "      <th>2</th>\n",
              "      <td>https://www1.folha.uol.com.br/mercado/2021/09/...</td>\n",
              "      <td>MP de Bolsonaro dificulta combate a bullying e...</td>\n",
              "      <td>7.set.2021 às 4h00</td>\n",
              "      <td>Folha</td>\n",
              "    </tr>\n",
              "  </tbody>\n",
              "</table>\n",
              "</div>\n",
              "      <button class=\"colab-df-convert\" onclick=\"convertToInteractive('df-1da80010-d5a2-4375-9b4f-0a5092f4e749')\"\n",
              "              title=\"Convert this dataframe to an interactive table.\"\n",
              "              style=\"display:none;\">\n",
              "        \n",
              "  <svg xmlns=\"http://www.w3.org/2000/svg\" height=\"24px\"viewBox=\"0 0 24 24\"\n",
              "       width=\"24px\">\n",
              "    <path d=\"M0 0h24v24H0V0z\" fill=\"none\"/>\n",
              "    <path d=\"M18.56 5.44l.94 2.06.94-2.06 2.06-.94-2.06-.94-.94-2.06-.94 2.06-2.06.94zm-11 1L8.5 8.5l.94-2.06 2.06-.94-2.06-.94L8.5 2.5l-.94 2.06-2.06.94zm10 10l.94 2.06.94-2.06 2.06-.94-2.06-.94-.94-2.06-.94 2.06-2.06.94z\"/><path d=\"M17.41 7.96l-1.37-1.37c-.4-.4-.92-.59-1.43-.59-.52 0-1.04.2-1.43.59L10.3 9.45l-7.72 7.72c-.78.78-.78 2.05 0 2.83L4 21.41c.39.39.9.59 1.41.59.51 0 1.02-.2 1.41-.59l7.78-7.78 2.81-2.81c.8-.78.8-2.07 0-2.86zM5.41 20L4 18.59l7.72-7.72 1.47 1.35L5.41 20z\"/>\n",
              "  </svg>\n",
              "      </button>\n",
              "      \n",
              "  <style>\n",
              "    .colab-df-container {\n",
              "      display:flex;\n",
              "      flex-wrap:wrap;\n",
              "      gap: 12px;\n",
              "    }\n",
              "\n",
              "    .colab-df-convert {\n",
              "      background-color: #E8F0FE;\n",
              "      border: none;\n",
              "      border-radius: 50%;\n",
              "      cursor: pointer;\n",
              "      display: none;\n",
              "      fill: #1967D2;\n",
              "      height: 32px;\n",
              "      padding: 0 0 0 0;\n",
              "      width: 32px;\n",
              "    }\n",
              "\n",
              "    .colab-df-convert:hover {\n",
              "      background-color: #E2EBFA;\n",
              "      box-shadow: 0px 1px 2px rgba(60, 64, 67, 0.3), 0px 1px 3px 1px rgba(60, 64, 67, 0.15);\n",
              "      fill: #174EA6;\n",
              "    }\n",
              "\n",
              "    [theme=dark] .colab-df-convert {\n",
              "      background-color: #3B4455;\n",
              "      fill: #D2E3FC;\n",
              "    }\n",
              "\n",
              "    [theme=dark] .colab-df-convert:hover {\n",
              "      background-color: #434B5C;\n",
              "      box-shadow: 0px 1px 3px 1px rgba(0, 0, 0, 0.15);\n",
              "      filter: drop-shadow(0px 1px 2px rgba(0, 0, 0, 0.3));\n",
              "      fill: #FFFFFF;\n",
              "    }\n",
              "  </style>\n",
              "\n",
              "      <script>\n",
              "        const buttonEl =\n",
              "          document.querySelector('#df-1da80010-d5a2-4375-9b4f-0a5092f4e749 button.colab-df-convert');\n",
              "        buttonEl.style.display =\n",
              "          google.colab.kernel.accessAllowed ? 'block' : 'none';\n",
              "\n",
              "        async function convertToInteractive(key) {\n",
              "          const element = document.querySelector('#df-1da80010-d5a2-4375-9b4f-0a5092f4e749');\n",
              "          const dataTable =\n",
              "            await google.colab.kernel.invokeFunction('convertToInteractive',\n",
              "                                                     [key], {});\n",
              "          if (!dataTable) return;\n",
              "\n",
              "          const docLinkHtml = 'Like what you see? Visit the ' +\n",
              "            '<a target=\"_blank\" href=https://colab.research.google.com/notebooks/data_table.ipynb>data table notebook</a>'\n",
              "            + ' to learn more about interactive tables.';\n",
              "          element.innerHTML = '';\n",
              "          dataTable['output_type'] = 'display_data';\n",
              "          await google.colab.output.renderOutput(dataTable, element);\n",
              "          const docLink = document.createElement('div');\n",
              "          docLink.innerHTML = docLinkHtml;\n",
              "          element.appendChild(docLink);\n",
              "        }\n",
              "      </script>\n",
              "    </div>\n",
              "  </div>\n",
              "  "
            ]
          },
          "metadata": {},
          "execution_count": 16
        }
      ]
    },
    {
      "cell_type": "markdown",
      "source": [
        "**Código agregado Teletime + Folha**"
      ],
      "metadata": {
        "id": "g64N04uiDUgH"
      }
    },
    {
      "cell_type": "code",
      "source": [
        "df_agregado = pd.concat([df_teletime, df_folha], ignore_index=True)\n",
        "df_agregado"
      ],
      "metadata": {
        "colab": {
          "base_uri": "https://localhost:8080/",
          "height": 300
        },
        "id": "ar8bOVFrCTiu",
        "outputId": "8b61a70f-2c7d-45a2-eeab-38bda90d4717"
      },
      "execution_count": null,
      "outputs": [
        {
          "output_type": "execute_result",
          "data": {
            "text/plain": [
              "                                                Link  \\\n",
              "0  https://teletime.com.br/06/12/2022/de-como-a-a...   \n",
              "1  https://teletime.com.br/09/03/2022/telcomp-que...   \n",
              "2  https://teletime.com.br/19/11/2020/mercado-de-...   \n",
              "3  https://teletime.com.br/24/02/2011/oi-net-e-ti...   \n",
              "4  https://teletime.com.br/02/01/2007/seae-faz-es...   \n",
              "5  https://www1.folha.uol.com.br/mundo/2022/05/su...   \n",
              "6  https://www1.folha.uol.com.br/colunas/ross-dou...   \n",
              "7  https://www1.folha.uol.com.br/mercado/2021/09/...   \n",
              "\n",
              "                                              Título                  Data  \\\n",
              "0  De Como a Anatel Pode Contribuir para a Regula...       06/12/22, 00:34   \n",
              "1  TelComp quer regras assimétricas para mercado ...       09/03/22, 19:13   \n",
              "2  Mercado de espectro, redes neutras e OCDE em p...       19/11/20, 23:14   \n",
              "3  Oi, Net e TIM têm visões diferentes sobre regu...       24/02/11, 23:00   \n",
              "4  Seae faz estudos sobre espectro e neutralidade...       02/01/07, 17:45   \n",
              "5  Suprema Corte dos EUA barra lei do Texas que r...  31.mai.2022 às 21h32   \n",
              "6  O que a direita faz quando as grandes empresas...   4.mai.2022 às 17h34   \n",
              "7  MP de Bolsonaro dificulta combate a bullying e...    7.set.2021 às 4h00   \n",
              "\n",
              "    Veículo  \n",
              "0  Teletime  \n",
              "1  Teletime  \n",
              "2  Teletime  \n",
              "3  Teletime  \n",
              "4  Teletime  \n",
              "5     Folha  \n",
              "6     Folha  \n",
              "7     Folha  "
            ],
            "text/html": [
              "\n",
              "  <div id=\"df-796c6552-61a9-40ff-8434-0b917e8b4029\">\n",
              "    <div class=\"colab-df-container\">\n",
              "      <div>\n",
              "<style scoped>\n",
              "    .dataframe tbody tr th:only-of-type {\n",
              "        vertical-align: middle;\n",
              "    }\n",
              "\n",
              "    .dataframe tbody tr th {\n",
              "        vertical-align: top;\n",
              "    }\n",
              "\n",
              "    .dataframe thead th {\n",
              "        text-align: right;\n",
              "    }\n",
              "</style>\n",
              "<table border=\"1\" class=\"dataframe\">\n",
              "  <thead>\n",
              "    <tr style=\"text-align: right;\">\n",
              "      <th></th>\n",
              "      <th>Link</th>\n",
              "      <th>Título</th>\n",
              "      <th>Data</th>\n",
              "      <th>Veículo</th>\n",
              "    </tr>\n",
              "  </thead>\n",
              "  <tbody>\n",
              "    <tr>\n",
              "      <th>0</th>\n",
              "      <td>https://teletime.com.br/06/12/2022/de-como-a-a...</td>\n",
              "      <td>De Como a Anatel Pode Contribuir para a Regula...</td>\n",
              "      <td>06/12/22, 00:34</td>\n",
              "      <td>Teletime</td>\n",
              "    </tr>\n",
              "    <tr>\n",
              "      <th>1</th>\n",
              "      <td>https://teletime.com.br/09/03/2022/telcomp-que...</td>\n",
              "      <td>TelComp quer regras assimétricas para mercado ...</td>\n",
              "      <td>09/03/22, 19:13</td>\n",
              "      <td>Teletime</td>\n",
              "    </tr>\n",
              "    <tr>\n",
              "      <th>2</th>\n",
              "      <td>https://teletime.com.br/19/11/2020/mercado-de-...</td>\n",
              "      <td>Mercado de espectro, redes neutras e OCDE em p...</td>\n",
              "      <td>19/11/20, 23:14</td>\n",
              "      <td>Teletime</td>\n",
              "    </tr>\n",
              "    <tr>\n",
              "      <th>3</th>\n",
              "      <td>https://teletime.com.br/24/02/2011/oi-net-e-ti...</td>\n",
              "      <td>Oi, Net e TIM têm visões diferentes sobre regu...</td>\n",
              "      <td>24/02/11, 23:00</td>\n",
              "      <td>Teletime</td>\n",
              "    </tr>\n",
              "    <tr>\n",
              "      <th>4</th>\n",
              "      <td>https://teletime.com.br/02/01/2007/seae-faz-es...</td>\n",
              "      <td>Seae faz estudos sobre espectro e neutralidade...</td>\n",
              "      <td>02/01/07, 17:45</td>\n",
              "      <td>Teletime</td>\n",
              "    </tr>\n",
              "    <tr>\n",
              "      <th>5</th>\n",
              "      <td>https://www1.folha.uol.com.br/mundo/2022/05/su...</td>\n",
              "      <td>Suprema Corte dos EUA barra lei do Texas que r...</td>\n",
              "      <td>31.mai.2022 às 21h32</td>\n",
              "      <td>Folha</td>\n",
              "    </tr>\n",
              "    <tr>\n",
              "      <th>6</th>\n",
              "      <td>https://www1.folha.uol.com.br/colunas/ross-dou...</td>\n",
              "      <td>O que a direita faz quando as grandes empresas...</td>\n",
              "      <td>4.mai.2022 às 17h34</td>\n",
              "      <td>Folha</td>\n",
              "    </tr>\n",
              "    <tr>\n",
              "      <th>7</th>\n",
              "      <td>https://www1.folha.uol.com.br/mercado/2021/09/...</td>\n",
              "      <td>MP de Bolsonaro dificulta combate a bullying e...</td>\n",
              "      <td>7.set.2021 às 4h00</td>\n",
              "      <td>Folha</td>\n",
              "    </tr>\n",
              "  </tbody>\n",
              "</table>\n",
              "</div>\n",
              "      <button class=\"colab-df-convert\" onclick=\"convertToInteractive('df-796c6552-61a9-40ff-8434-0b917e8b4029')\"\n",
              "              title=\"Convert this dataframe to an interactive table.\"\n",
              "              style=\"display:none;\">\n",
              "        \n",
              "  <svg xmlns=\"http://www.w3.org/2000/svg\" height=\"24px\"viewBox=\"0 0 24 24\"\n",
              "       width=\"24px\">\n",
              "    <path d=\"M0 0h24v24H0V0z\" fill=\"none\"/>\n",
              "    <path d=\"M18.56 5.44l.94 2.06.94-2.06 2.06-.94-2.06-.94-.94-2.06-.94 2.06-2.06.94zm-11 1L8.5 8.5l.94-2.06 2.06-.94-2.06-.94L8.5 2.5l-.94 2.06-2.06.94zm10 10l.94 2.06.94-2.06 2.06-.94-2.06-.94-.94-2.06-.94 2.06-2.06.94z\"/><path d=\"M17.41 7.96l-1.37-1.37c-.4-.4-.92-.59-1.43-.59-.52 0-1.04.2-1.43.59L10.3 9.45l-7.72 7.72c-.78.78-.78 2.05 0 2.83L4 21.41c.39.39.9.59 1.41.59.51 0 1.02-.2 1.41-.59l7.78-7.78 2.81-2.81c.8-.78.8-2.07 0-2.86zM5.41 20L4 18.59l7.72-7.72 1.47 1.35L5.41 20z\"/>\n",
              "  </svg>\n",
              "      </button>\n",
              "      \n",
              "  <style>\n",
              "    .colab-df-container {\n",
              "      display:flex;\n",
              "      flex-wrap:wrap;\n",
              "      gap: 12px;\n",
              "    }\n",
              "\n",
              "    .colab-df-convert {\n",
              "      background-color: #E8F0FE;\n",
              "      border: none;\n",
              "      border-radius: 50%;\n",
              "      cursor: pointer;\n",
              "      display: none;\n",
              "      fill: #1967D2;\n",
              "      height: 32px;\n",
              "      padding: 0 0 0 0;\n",
              "      width: 32px;\n",
              "    }\n",
              "\n",
              "    .colab-df-convert:hover {\n",
              "      background-color: #E2EBFA;\n",
              "      box-shadow: 0px 1px 2px rgba(60, 64, 67, 0.3), 0px 1px 3px 1px rgba(60, 64, 67, 0.15);\n",
              "      fill: #174EA6;\n",
              "    }\n",
              "\n",
              "    [theme=dark] .colab-df-convert {\n",
              "      background-color: #3B4455;\n",
              "      fill: #D2E3FC;\n",
              "    }\n",
              "\n",
              "    [theme=dark] .colab-df-convert:hover {\n",
              "      background-color: #434B5C;\n",
              "      box-shadow: 0px 1px 3px 1px rgba(0, 0, 0, 0.15);\n",
              "      filter: drop-shadow(0px 1px 2px rgba(0, 0, 0, 0.3));\n",
              "      fill: #FFFFFF;\n",
              "    }\n",
              "  </style>\n",
              "\n",
              "      <script>\n",
              "        const buttonEl =\n",
              "          document.querySelector('#df-796c6552-61a9-40ff-8434-0b917e8b4029 button.colab-df-convert');\n",
              "        buttonEl.style.display =\n",
              "          google.colab.kernel.accessAllowed ? 'block' : 'none';\n",
              "\n",
              "        async function convertToInteractive(key) {\n",
              "          const element = document.querySelector('#df-796c6552-61a9-40ff-8434-0b917e8b4029');\n",
              "          const dataTable =\n",
              "            await google.colab.kernel.invokeFunction('convertToInteractive',\n",
              "                                                     [key], {});\n",
              "          if (!dataTable) return;\n",
              "\n",
              "          const docLinkHtml = 'Like what you see? Visit the ' +\n",
              "            '<a target=\"_blank\" href=https://colab.research.google.com/notebooks/data_table.ipynb>data table notebook</a>'\n",
              "            + ' to learn more about interactive tables.';\n",
              "          element.innerHTML = '';\n",
              "          dataTable['output_type'] = 'display_data';\n",
              "          await google.colab.output.renderOutput(dataTable, element);\n",
              "          const docLink = document.createElement('div');\n",
              "          docLink.innerHTML = docLinkHtml;\n",
              "          element.appendChild(docLink);\n",
              "        }\n",
              "      </script>\n",
              "    </div>\n",
              "  </div>\n",
              "  "
            ]
          },
          "metadata": {},
          "execution_count": 17
        }
      ]
    },
    {
      "cell_type": "code",
      "source": [
        "contagem_de_not = len(df_agregado['Link'])\n",
        "for noticia in range(contagem_de_not):\n",
        "  contagem_de_not -= 1\n",
        "  site = df_agregado['Veículo'][contagem_de_not]\n",
        "  date = df_agregado['Data'][contagem_de_not]\n",
        "  title = df_agregado['Título'][contagem_de_not]\n",
        "  url = df_agregado['Link'][contagem_de_not]\n",
        "  print(f'O site {site}, no dia {date}, publicou \"{title}\" sobre regulação das redes sociais. Link: {url}')"
      ],
      "metadata": {
        "colab": {
          "base_uri": "https://localhost:8080/"
        },
        "id": "51likETje0Lf",
        "outputId": "8125b0c6-3361-4904-bb25-7e7d627dca42"
      },
      "execution_count": null,
      "outputs": [
        {
          "output_type": "stream",
          "name": "stdout",
          "text": [
            "O site Folha, no dia 7.set.2021 às 4h00, publicou \"MP de Bolsonaro dificulta combate a bullying e assédio nas redes sociais; entenda\" sobre regulação das redes sociais. Link: https://www1.folha.uol.com.br/mercado/2021/09/mp-de-bolsonaro-limita-combate-a-bullying-e-assedio-nas-redes-sociais-entenda.shtml\n",
            "O site Folha, no dia 4.mai.2022 às 17h34, publicou \"O que a direita faz quando as grandes empresas se voltam contra o conservadorismo?\" sobre regulação das redes sociais. Link: https://www1.folha.uol.com.br/colunas/ross-douthat/2022/05/o-que-a-direita-faz-quando-as-grandes-empresas-se-voltam-contra-o-conservadorismo.shtml\n",
            "O site Folha, no dia 31.mai.2022 às 21h32, publicou \"Suprema Corte dos EUA barra lei do Texas que restringia poder de moderação de redes sociais\" sobre regulação das redes sociais. Link: https://www1.folha.uol.com.br/mundo/2022/05/suprema-corte-dos-eua-barra-lei-do-texas-que-restringia-poder-de-moderacao-de-redes-sociais.shtml\n",
            "O site Teletime, no dia 02/01/07, 17:45, publicou \"Seae faz estudos sobre espectro e neutralidade de redes\" sobre regulação das redes sociais. Link: https://teletime.com.br/02/01/2007/seae-faz-estudos-sobre-espectro-e-neutralidade-de-redes/\n",
            "O site Teletime, no dia 24/02/11, 23:00, publicou \"Oi, Net e TIM têm visões diferentes sobre regulação das redes convergentes\" sobre regulação das redes sociais. Link: https://teletime.com.br/24/02/2011/oi-net-e-tim-tem-visoes-diferentes-sobre-regulacao-das-redes-convergentes/\n",
            "O site Teletime, no dia 19/11/20, 23:14, publicou \"Mercado de espectro, redes neutras e OCDE em pauta no Seminário ABDTIC dia 23. É Grátis\" sobre regulação das redes sociais. Link: https://teletime.com.br/19/11/2020/mercado-de-espectro-redes-neutras-e-ocde-em-pauta-no-seminario-abdtic-dia-23-e-gratis/\n",
            "O site Teletime, no dia 09/03/22, 19:13, publicou \"TelComp quer regras assimétricas para mercado secundário e redes neutras\" sobre regulação das redes sociais. Link: https://teletime.com.br/09/03/2022/telcomp-quer-regras-assimetricas-para-mercado-secundario-e-redes-neutras/\n",
            "O site Teletime, no dia 06/12/22, 00:34, publicou \"De Como a Anatel Pode Contribuir para a Regulação do Ecossistema Digital Brasileiro\" sobre regulação das redes sociais. Link: https://teletime.com.br/06/12/2022/de-como-a-anatel-pode-contribuir-para-a-regulacao-do-ecossistema-digital-brasileiro/\n"
          ]
        }
      ]
    },
    {
      "cell_type": "markdown",
      "source": [
        "**Tentativas sem sucesso**"
      ],
      "metadata": {
        "id": "LhRO2yn0iuT0"
      }
    },
    {
      "cell_type": "code",
      "source": [
        "df_count = df_agregado.groupby('Veículo')['Link'].count()\n",
        "\n",
        "resultados = []\n",
        "for i in range(0, len(df_count)):\n",
        "  links = df_agregado.where(df_agregado['Veículo'] == df_count.index[i])['Link'].dropna()  \n",
        "  resultados.append((df_count.index[i], [l for l in links]))\n",
        "\n",
        "for res in resultados:\n",
        "  for link in res[1]:\n",
        "    print(f'{res[0]}: {link}')"
      ],
      "metadata": {
        "colab": {
          "base_uri": "https://localhost:8080/"
        },
        "id": "yA_nxQRmQx33",
        "outputId": "98d5d448-7fe7-42ae-aa5e-7cff7eb74fdc"
      },
      "execution_count": null,
      "outputs": [
        {
          "output_type": "stream",
          "name": "stdout",
          "text": [
            "Folha: https://www1.folha.uol.com.br/mundo/2022/05/suprema-corte-dos-eua-barra-lei-do-texas-que-restringia-poder-de-moderacao-de-redes-sociais.shtml\n",
            "Folha: https://www1.folha.uol.com.br/colunas/ross-douthat/2022/05/o-que-a-direita-faz-quando-as-grandes-empresas-se-voltam-contra-o-conservadorismo.shtml\n",
            "Folha: https://www1.folha.uol.com.br/mercado/2021/09/mp-de-bolsonaro-limita-combate-a-bullying-e-assedio-nas-redes-sociais-entenda.shtml\n",
            "Teletime: https://teletime.com.br/06/12/2022/de-como-a-anatel-pode-contribuir-para-a-regulacao-do-ecossistema-digital-brasileiro/\n",
            "Teletime: https://teletime.com.br/09/03/2022/telcomp-quer-regras-assimetricas-para-mercado-secundario-e-redes-neutras/\n",
            "Teletime: https://teletime.com.br/19/11/2020/mercado-de-espectro-redes-neutras-e-ocde-em-pauta-no-seminario-abdtic-dia-23-e-gratis/\n",
            "Teletime: https://teletime.com.br/24/02/2011/oi-net-e-tim-tem-visoes-diferentes-sobre-regulacao-das-redes-convergentes/\n",
            "Teletime: https://teletime.com.br/02/01/2007/seae-faz-estudos-sobre-espectro-e-neutralidade-de-redes/\n"
          ]
        }
      ]
    },
    {
      "cell_type": "code",
      "source": [
        "df_count = df_agregado.groupby('Veículo')['Link'].count()\n",
        "df_count = df_count.reset_index().sort_values('Link',ascending=False).reset_index(drop=True)"
      ],
      "metadata": {
        "id": "BQnGcpsxQ3P-"
      },
      "execution_count": null,
      "outputs": []
    },
    {
      "cell_type": "code",
      "source": [
        "df_agregado.groupby('Veículo').count().reset_index().loc[0,'Link']"
      ],
      "metadata": {
        "colab": {
          "base_uri": "https://localhost:8080/"
        },
        "id": "ZdXNSPdwSMkV",
        "outputId": "81419cac-7cbd-4c5e-8f52-02009d9a4660"
      },
      "execution_count": null,
      "outputs": [
        {
          "output_type": "execute_result",
          "data": {
            "text/plain": [
              "3"
            ]
          },
          "metadata": {},
          "execution_count": 26
        }
      ]
    },
    {
      "cell_type": "code",
      "source": [
        "df_count"
      ],
      "metadata": {
        "colab": {
          "base_uri": "https://localhost:8080/",
          "height": 112
        },
        "id": "aizrbBwcoSTB",
        "outputId": "56f03646-aa28-47f1-fdd8-bede8e13d68b"
      },
      "execution_count": null,
      "outputs": [
        {
          "output_type": "execute_result",
          "data": {
            "text/plain": [
              "    Veículo  Link\n",
              "0  Teletime     5\n",
              "1     Folha     3"
            ],
            "text/html": [
              "\n",
              "  <div id=\"df-e4db6085-dec2-4e80-bfda-30ebb546eccd\">\n",
              "    <div class=\"colab-df-container\">\n",
              "      <div>\n",
              "<style scoped>\n",
              "    .dataframe tbody tr th:only-of-type {\n",
              "        vertical-align: middle;\n",
              "    }\n",
              "\n",
              "    .dataframe tbody tr th {\n",
              "        vertical-align: top;\n",
              "    }\n",
              "\n",
              "    .dataframe thead th {\n",
              "        text-align: right;\n",
              "    }\n",
              "</style>\n",
              "<table border=\"1\" class=\"dataframe\">\n",
              "  <thead>\n",
              "    <tr style=\"text-align: right;\">\n",
              "      <th></th>\n",
              "      <th>Veículo</th>\n",
              "      <th>Link</th>\n",
              "    </tr>\n",
              "  </thead>\n",
              "  <tbody>\n",
              "    <tr>\n",
              "      <th>0</th>\n",
              "      <td>Teletime</td>\n",
              "      <td>5</td>\n",
              "    </tr>\n",
              "    <tr>\n",
              "      <th>1</th>\n",
              "      <td>Folha</td>\n",
              "      <td>3</td>\n",
              "    </tr>\n",
              "  </tbody>\n",
              "</table>\n",
              "</div>\n",
              "      <button class=\"colab-df-convert\" onclick=\"convertToInteractive('df-e4db6085-dec2-4e80-bfda-30ebb546eccd')\"\n",
              "              title=\"Convert this dataframe to an interactive table.\"\n",
              "              style=\"display:none;\">\n",
              "        \n",
              "  <svg xmlns=\"http://www.w3.org/2000/svg\" height=\"24px\"viewBox=\"0 0 24 24\"\n",
              "       width=\"24px\">\n",
              "    <path d=\"M0 0h24v24H0V0z\" fill=\"none\"/>\n",
              "    <path d=\"M18.56 5.44l.94 2.06.94-2.06 2.06-.94-2.06-.94-.94-2.06-.94 2.06-2.06.94zm-11 1L8.5 8.5l.94-2.06 2.06-.94-2.06-.94L8.5 2.5l-.94 2.06-2.06.94zm10 10l.94 2.06.94-2.06 2.06-.94-2.06-.94-.94-2.06-.94 2.06-2.06.94z\"/><path d=\"M17.41 7.96l-1.37-1.37c-.4-.4-.92-.59-1.43-.59-.52 0-1.04.2-1.43.59L10.3 9.45l-7.72 7.72c-.78.78-.78 2.05 0 2.83L4 21.41c.39.39.9.59 1.41.59.51 0 1.02-.2 1.41-.59l7.78-7.78 2.81-2.81c.8-.78.8-2.07 0-2.86zM5.41 20L4 18.59l7.72-7.72 1.47 1.35L5.41 20z\"/>\n",
              "  </svg>\n",
              "      </button>\n",
              "      \n",
              "  <style>\n",
              "    .colab-df-container {\n",
              "      display:flex;\n",
              "      flex-wrap:wrap;\n",
              "      gap: 12px;\n",
              "    }\n",
              "\n",
              "    .colab-df-convert {\n",
              "      background-color: #E8F0FE;\n",
              "      border: none;\n",
              "      border-radius: 50%;\n",
              "      cursor: pointer;\n",
              "      display: none;\n",
              "      fill: #1967D2;\n",
              "      height: 32px;\n",
              "      padding: 0 0 0 0;\n",
              "      width: 32px;\n",
              "    }\n",
              "\n",
              "    .colab-df-convert:hover {\n",
              "      background-color: #E2EBFA;\n",
              "      box-shadow: 0px 1px 2px rgba(60, 64, 67, 0.3), 0px 1px 3px 1px rgba(60, 64, 67, 0.15);\n",
              "      fill: #174EA6;\n",
              "    }\n",
              "\n",
              "    [theme=dark] .colab-df-convert {\n",
              "      background-color: #3B4455;\n",
              "      fill: #D2E3FC;\n",
              "    }\n",
              "\n",
              "    [theme=dark] .colab-df-convert:hover {\n",
              "      background-color: #434B5C;\n",
              "      box-shadow: 0px 1px 3px 1px rgba(0, 0, 0, 0.15);\n",
              "      filter: drop-shadow(0px 1px 2px rgba(0, 0, 0, 0.3));\n",
              "      fill: #FFFFFF;\n",
              "    }\n",
              "  </style>\n",
              "\n",
              "      <script>\n",
              "        const buttonEl =\n",
              "          document.querySelector('#df-e4db6085-dec2-4e80-bfda-30ebb546eccd button.colab-df-convert');\n",
              "        buttonEl.style.display =\n",
              "          google.colab.kernel.accessAllowed ? 'block' : 'none';\n",
              "\n",
              "        async function convertToInteractive(key) {\n",
              "          const element = document.querySelector('#df-e4db6085-dec2-4e80-bfda-30ebb546eccd');\n",
              "          const dataTable =\n",
              "            await google.colab.kernel.invokeFunction('convertToInteractive',\n",
              "                                                     [key], {});\n",
              "          if (!dataTable) return;\n",
              "\n",
              "          const docLinkHtml = 'Like what you see? Visit the ' +\n",
              "            '<a target=\"_blank\" href=https://colab.research.google.com/notebooks/data_table.ipynb>data table notebook</a>'\n",
              "            + ' to learn more about interactive tables.';\n",
              "          element.innerHTML = '';\n",
              "          dataTable['output_type'] = 'display_data';\n",
              "          await google.colab.output.renderOutput(dataTable, element);\n",
              "          const docLink = document.createElement('div');\n",
              "          docLink.innerHTML = docLinkHtml;\n",
              "          element.appendChild(docLink);\n",
              "        }\n",
              "      </script>\n",
              "    </div>\n",
              "  </div>\n",
              "  "
            ]
          },
          "metadata": {},
          "execution_count": 32
        }
      ]
    },
    {
      "cell_type": "code",
      "source": [
        "# Nome do veículo. Para pegar a quantidade de notícias daquele veículo, basta manter o número da linha e mudar o nome da coluna\n",
        "veiculo_primeiro=df_count.loc[0,'Veículo']\n",
        "noticias_primeiro=df_count.loc[0,'Link']\n",
        "\n",
        "\n",
        "veiculo_segundo=df_count.loc[1,'Veículo']\n",
        "noticias_segundo=df_count.loc[1,'Link']"
      ],
      "metadata": {
        "id": "ZI4YFDTeoSQj"
      },
      "execution_count": null,
      "outputs": []
    },
    {
      "cell_type": "code",
      "source": [
        "f\"Neste monitoramento, o veículo {veiculo_primeiro} publicou {noticias_primeiro} notícias. Já o veículo {veiculo_segundo} publicou {noticias_segundo} notícias\""
      ],
      "metadata": {
        "colab": {
          "base_uri": "https://localhost:8080/",
          "height": 36
        },
        "id": "rOIlnvWFoSNs",
        "outputId": "37cda71d-3d20-4657-abe6-c21aad745024"
      },
      "execution_count": null,
      "outputs": [
        {
          "output_type": "execute_result",
          "data": {
            "text/plain": [
              "'Neste monitoramento, o veículo Teletime publicou 5 notícias. Já o veículo Folha publicou 3 notícias'"
            ],
            "application/vnd.google.colaboratory.intrinsic+json": {
              "type": "string"
            }
          },
          "metadata": {},
          "execution_count": 37
        }
      ]
    },
    {
      "cell_type": "code",
      "source": [],
      "metadata": {
        "id": "R_KIkDAporcf"
      },
      "execution_count": null,
      "outputs": []
    },
    {
      "cell_type": "code",
      "source": [],
      "metadata": {
        "id": "-48nmStdorZa"
      },
      "execution_count": null,
      "outputs": []
    },
    {
      "cell_type": "code",
      "source": [],
      "metadata": {
        "id": "ClI2lv5WorXK"
      },
      "execution_count": null,
      "outputs": []
    },
    {
      "cell_type": "code",
      "source": [],
      "metadata": {
        "id": "4fy1coZDorUb"
      },
      "execution_count": null,
      "outputs": []
    },
    {
      "cell_type": "code",
      "source": [],
      "metadata": {
        "id": "65qN4Jp8orR3"
      },
      "execution_count": null,
      "outputs": []
    },
    {
      "cell_type": "code",
      "source": [
        "agrupado = df_agregado['Veículo'].value_counts()\n",
        "agrupado = pd.Dataframe(agrupado)\n",
        "\n",
        "df_teletime= agrupado['Coluna com a contagem'].iloc(0)\n",
        "df_folha = agrupado['Coluna com a contagem 2'].iloc(1)"
      ],
      "metadata": {
        "id": "WNgC_pG_RIBV"
      },
      "execution_count": null,
      "outputs": []
    }
  ]
}